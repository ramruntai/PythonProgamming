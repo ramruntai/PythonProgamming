{
 "cells": [
  {
   "cell_type": "markdown",
   "metadata": {},
   "source": [
    "# Think Python 2 Review Chapter 12 "
   ]
  },
  {
   "cell_type": "markdown",
   "metadata": {},
   "source": [
    "## In the previous weeks, we study list and dictionary\n",
    "* list - sequence of values\n",
    "* dictionary - mapping between keys and values\n",
    "\n",
    "* tuple - immutable sequence of values"
   ]
  },
  {
   "cell_type": "markdown",
   "metadata": {},
   "source": [
    "### Objective\n",
    "\n",
    "#### What they are\n",
    "- Tuples are immutablbe\n",
    "- Tuple assignment\n",
    "\n",
    "#### With functions\n",
    "- Tuple as return values\n",
    "- Variables-length argument tuples\n",
    "\n",
    "#### When and why\n",
    "- Lists and Tuples\n",
    "- Dictionaries and tuples\n",
    "- Sequences of sequences"
   ]
  },
  {
   "cell_type": "markdown",
   "metadata": {},
   "source": [
    "### craeting, editing, deleting - immutable"
   ]
  },
  {
   "cell_type": "code",
   "execution_count": null,
   "metadata": {},
   "outputs": [],
   "source": [
    "# Tuple of names\n",
    "names = (\"David\", \"Nehemiah\", \"Esther\")\n",
    "\n",
    "## what methods are available in a tuple?\n",
    "# only two \n",
    "#  names.count\n",
    "#  names.index"
   ]
  },
  {
   "cell_type": "code",
   "execution_count": null,
   "metadata": {},
   "outputs": [],
   "source": [
    "## access elements\n",
    "\n",
    "print('Tuple \"names\":', names)\n",
    "print('First element:', names[0])\n",
    "print('Last element:', names[-1])\n",
    "print(\"Slicing:\", names[0:2])\n"
   ]
  },
  {
   "cell_type": "code",
   "execution_count": null,
   "metadata": {},
   "outputs": [],
   "source": [
    "t = 'a', 'b', 1, 2, 4, 'c'\n",
    "t = 'a', # tuple\n",
    "t = 'a' # string\n",
    "t = ('a',) # tuple\n",
    "t = ('a') # string"
   ]
  },
  {
   "cell_type": "code",
   "execution_count": null,
   "metadata": {},
   "outputs": [],
   "source": [
    "print(t)\n",
    "print(type(t))"
   ]
  },
  {
   "cell_type": "code",
   "execution_count": null,
   "metadata": {},
   "outputs": [],
   "source": [
    "t = tuple() # empty tuple\n",
    "t = tuple('string')\n",
    "len(t)\n",
    "for item in t:\n",
    "    print(item)"
   ]
  },
  {
   "cell_type": "code",
   "execution_count": null,
   "metadata": {},
   "outputs": [],
   "source": [
    "## make a new tuple\n",
    "t = ('S',) + t[1:]\n",
    "print(t)\n"
   ]
  },
  {
   "cell_type": "code",
   "execution_count": null,
   "metadata": {},
   "outputs": [],
   "source": [
    "## comparison of tuples\n",
    "t1 = (1, 2, 3)\n",
    "t2 = (1, 2, 3, 6)\n",
    "\n",
    "t1 < t2"
   ]
  },
  {
   "cell_type": "code",
   "execution_count": null,
   "metadata": {},
   "outputs": [],
   "source": [
    "## Cannot change \n",
    "## Let's try to change one of the element\n",
    "\n",
    "import sys\n",
    "\n",
    "try: \n",
    "    names[0] ='King David'    \n",
    "except TypeError:\n",
    "    print(\"TypeError occurred: \", sys.exc_info()[1])\n",
    "    #print(sys.exc_info())\n",
    "except:\n",
    "    print(\"Error:\", sys.exc_info()[0])\n",
    "    \n",
    "# Regarding error handling\n",
    "#    please refer to \n",
    "#    https://docs.python.org/3/tutorial/errors.html"
   ]
  },
  {
   "cell_type": "code",
   "execution_count": null,
   "metadata": {},
   "outputs": [],
   "source": [
    "for it in names:\n",
    "    print(it)"
   ]
  },
  {
   "cell_type": "code",
   "execution_count": null,
   "metadata": {},
   "outputs": [],
   "source": [
    "# Tuple assignment\n",
    "at = (1, 2, 3)\n",
    "bt = (\"Tuple\", \"b\", \"swap\", \"with\", \"at\")\n",
    "\n",
    "\n",
    "## Before swapping\n",
    "\n",
    "print(\"before swapping\")\n",
    "print(\"at:\", at, \"bt:\", bt)\n",
    "at, bt = bt, at\n",
    "print(\"after swapping\")\n",
    "print(\"at:\", at, \"bt:\", bt)"
   ]
  },
  {
   "cell_type": "code",
   "execution_count": null,
   "metadata": {},
   "outputs": [],
   "source": [
    "## Can we make a tuple using a for loop \n",
    "## as in list comprehension\n",
    "mylist = [item for item in range (10)]\n",
    "print(type(mylist))\n",
    "\n",
    "mydesired_tuple = (item for item in range(10)) ## for this, please refer to 19.3 generator expressions\n",
    "print(type(mydesired_tuple))"
   ]
  },
  {
   "cell_type": "markdown",
   "metadata": {},
   "source": [
    "### Tuples as return values"
   ]
  },
  {
   "cell_type": "code",
   "execution_count": null,
   "metadata": {},
   "outputs": [],
   "source": [
    "## functions can return a tuple\n",
    "t = divmod(7, 3) ## quotient 2, remainder 1. t = (2, 1)\n",
    "print(t, \" has \", len(t), \" elements\")\n",
    "\n",
    "q, r = divmod(7, 3)\n",
    "print('Quotient: ', q, ' remainder: ', r)"
   ]
  },
  {
   "cell_type": "markdown",
   "metadata": {},
   "source": [
    "### Variable-length argument (gather, scatter)\n",
    "know when you use * for your arguements and parameters\n"
   ]
  },
  {
   "cell_type": "code",
   "execution_count": null,
   "metadata": {},
   "outputs": [],
   "source": [
    "def my_vl_argument(*arg):   ## parameter named arg can handle a list of arguments\n",
    "    \n",
    "    for idx, item in enumerate(arg):\n",
    "        print(idx, \" \" , item)"
   ]
  },
  {
   "cell_type": "code",
   "execution_count": null,
   "metadata": {},
   "outputs": [],
   "source": [
    "my_vl_argument(\"my\", 'vl', 'function', 'really')"
   ]
  },
  {
   "cell_type": "code",
   "execution_count": null,
   "metadata": {},
   "outputs": [],
   "source": [
    "t = (\"my\", 'vl', 'function', 'really')\n",
    "print(\"\\ncalling without *\")\n",
    "my_vl_argument(t)\n",
    "\n",
    "print(\"\\ncalling with *\")\n",
    "my_vl_argument(*t)"
   ]
  },
  {
   "cell_type": "markdown",
   "metadata": {},
   "source": [
    "### lists and tuples, using zip and enumerate\n",
    "When you are using zip and enumerate for lists, \n",
    "we are creating tuples"
   ]
  },
  {
   "cell_type": "code",
   "execution_count": null,
   "metadata": {},
   "outputs": [],
   "source": [
    "s = 'abcdef'\n",
    "t = [1,2,3,4,5,6,7,8,9]\n",
    "\n",
    "## iterator\n",
    "zip(s, t)\n",
    "\n",
    "for pair in zip(s,t):\n",
    "    print(pair)\n",
    "    \n",
    "mylist_using_zip = list(zip(s,t))\n",
    "\n",
    "print(mylist_using_zip)"
   ]
  },
  {
   "cell_type": "markdown",
   "metadata": {},
   "source": [
    "### dictionaries and tuples. \n",
    "* Create a list of tuples from a dictionary\n",
    "* Create a dictionary using a list of tuples\n"
   ]
  },
  {
   "cell_type": "code",
   "execution_count": null,
   "metadata": {},
   "outputs": [],
   "source": [
    "myd = dict()\n",
    "myd['Exodus'] = 'Moses'\n",
    "myd['Timothy1'] = 'Paul'\n",
    "\n",
    "\n",
    "list_from_dict = list(myd.items())\n",
    "print(list_from_dict)"
   ]
  },
  {
   "cell_type": "code",
   "execution_count": null,
   "metadata": {},
   "outputs": [],
   "source": [
    "for k, v in myd.items():\n",
    "    print(k, \" was written by \", v)"
   ]
  },
  {
   "cell_type": "code",
   "execution_count": null,
   "metadata": {},
   "outputs": [],
   "source": [
    "t = [(\"Moses\", 5), (\"David\", 6)]\n",
    "\n",
    "myd_from_list_of_tuple = dict(t)\n",
    "print(myd_from_list_of_tuple)"
   ]
  }
 ],
 "metadata": {
  "kernelspec": {
   "display_name": "Python 3",
   "language": "python",
   "name": "python3"
  },
  "language_info": {
   "codemirror_mode": {
    "name": "ipython",
    "version": 3
   },
   "file_extension": ".py",
   "mimetype": "text/x-python",
   "name": "python",
   "nbconvert_exporter": "python",
   "pygments_lexer": "ipython3",
   "version": "3.5.5"
  }
 },
 "nbformat": 4,
 "nbformat_minor": 4
}
