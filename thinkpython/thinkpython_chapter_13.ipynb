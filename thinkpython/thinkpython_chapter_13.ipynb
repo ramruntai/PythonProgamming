{
 "cells": [
  {
   "cell_type": "markdown",
   "metadata": {},
   "source": [
    "# Chapter 13 Review"
   ]
  },
  {
   "cell_type": "markdown",
   "metadata": {},
   "source": [
    "#### So far we study logics, conditions, loops, and data structure\n",
    "\n",
    "We will now see what how powerful python language can be when utilizing the data structure depending on cases"
   ]
  },
  {
   "cell_type": "markdown",
   "metadata": {},
   "source": [
    "### 13.1 Word Frequency analysis"
   ]
  },
  {
   "cell_type": "code",
   "execution_count": 155,
   "metadata": {},
   "outputs": [
    {
     "data": {
      "text/plain": [
       "'!\"#$%&\\'()*+,-./:;<=>?@[\\\\]^_`{|}~'"
      ]
     },
     "execution_count": 155,
     "metadata": {},
     "output_type": "execute_result"
    }
   ],
   "source": [
    "# check what string.punctuation and string.whitespace contains\n",
    "string.punctuation\n",
    "#string.whitespace"
   ]
  },
  {
   "cell_type": "code",
   "execution_count": 156,
   "metadata": {},
   "outputs": [
    {
     "name": "stdout",
     "output_type": "stream",
     "text": [
      "False\n",
      "<class 'str'>\n"
     ]
    }
   ],
   "source": [
    "import string\n",
    "print(',' not in string.punctuation)\n",
    "print(type(','))"
   ]
  },
  {
   "cell_type": "code",
   "execution_count": 154,
   "metadata": {},
   "outputs": [
    {
     "name": "stdout",
     "output_type": "stream",
     "text": [
      "1inmyformerbooktheophilusiwroteaboutallthatjesusbegantodoandtoteach2untilthedayhewastakenuptoheavenaftergivinginstructionsthroughtheholyspirittotheapostleshehadchosen3afterhissufferinghepresentedhimselftothemandgavemanyconvincingproofsthathewasaliveheappearedtothemoveraperiodoffortydaysandspokeaboutthekingdomofgod4ononeoccasionwhilehewaseatingwiththemhegavethemthiscommanddonotleavejerusalembutwaitforthegiftmyfatherpromisedwhichyouhaveheardmespeakabout5forjohnbaptizedwithawaterbutinafewdaysyouwillbebaptizedwithbtheholyspirit6thentheygatheredaroundhimandaskedhimlordareyouatthistimegoingtorestorethekingdomtoisrael7hesaidtothemitisnotforyoutoknowthetimesordatesthefatherhassetbyhisownauthority8butyouwillreceivepowerwhentheholyspiritcomesonyouandyouwillbemywitnessesinjerusalemandinalljudeaandsamariaandtotheendsoftheearth9afterhesaidthishewastakenupbeforetheirveryeyesandacloudhidhimfromtheirsight10theywerelookingintentlyupintotheskyashewasgoingwhensuddenlytwomendressedinwhitestoodbesidethem11menofgalileetheysaidwhydoyoustandherelookingintotheskythissamejesuswhohasbeentakenfromyouintoheavenwillcomebackinthesamewayyouhaveseenhimgointoheaven\n"
     ]
    }
   ],
   "source": [
    "#Exercise 13.1. Write a program that reads a file, breaks each line into words, strips whitespace and punctuation from the words, and converts them to lowercase.\n",
    "\n",
    "import string\n",
    "#string.punctuation\n",
    "#string.whitespace\n",
    "\n",
    "#chapter 9\n",
    "fin = open('Act_1.txt', encoding=\"utf8\")\n",
    "clean_words = ''\n",
    "for line in fin:   #fin.readlines()\n",
    "    strip_line = line.strip()    #strip any space in the beginning or ending of the sentence. Consider using replace() to remove all space\n",
    "    words = strip_line.split()   #split the sentence in to list of words\n",
    "    for word in words:           #loop by each word\n",
    "        for char in word:        #loop by each character of the word\n",
    "            if ((char not in string.punctuation) and (char not in string.whitespace)):   #check if the character is in the string.punctuation or string.whitespace\n",
    "                clean_words += char.lower()\n",
    "            \n",
    "print(clean_words)"
   ]
  },
  {
   "cell_type": "code",
   "execution_count": 119,
   "metadata": {},
   "outputs": [
    {
     "name": "stdout",
     "output_type": "stream",
     "text": [
      "q\n",
      "w\n",
      "e\n",
      "s\n",
      "w\n",
      "f\n",
      "w\n",
      "q\n",
      "e\n",
      "False\n",
      "qweswfwqe\n"
     ]
    }
   ],
   "source": [
    "import string\n",
    "words = ',qwes!wf,wqe'\n",
    "newwords = ''\n",
    "for char in words:\n",
    "    #print('testing ', char)\n",
    "    #print(type(char))\n",
    "    if ((char not in string.punctuation)):\n",
    "        newwords += char.lower()\n",
    "        print(char.lower())\n",
    "            \n",
    "print(',' not in string.punctuation)\n",
    "print(newwords)"
   ]
  },
  {
   "cell_type": "markdown",
   "metadata": {},
   "source": [
    "### 13.2 Random numbers"
   ]
  },
  {
   "cell_type": "code",
   "execution_count": 52,
   "metadata": {},
   "outputs": [
    {
     "name": "stdout",
     "output_type": "stream",
     "text": [
      "0.6992817931909139\n",
      "0.711503218230758\n",
      "0.36231879602204853\n",
      "0.4786494573261574\n",
      "0.23959532367057468\n",
      "0.7244262997557146\n",
      "0.5940604160602567\n",
      "0.34585393184016844\n",
      "0.8277763766630167\n",
      "0.8816886424782453\n"
     ]
    }
   ],
   "source": [
    "#number from 0.0- 1.0, 1.0 not included\n",
    "import random\n",
    "\n",
    "for i in range(10):\n",
    "    x = random.random()\n",
    "    print(x)"
   ]
  },
  {
   "cell_type": "code",
   "execution_count": 137,
   "metadata": {},
   "outputs": [
    {
     "data": {
      "text/plain": [
       "10"
      ]
     },
     "execution_count": 137,
     "metadata": {},
     "output_type": "execute_result"
    }
   ],
   "source": [
    "#random number between certain parameters 'low' and 'high' , both inclusive \n",
    "random.randint(5, 10)  "
   ]
  },
  {
   "cell_type": "code",
   "execution_count": 146,
   "metadata": {},
   "outputs": [
    {
     "data": {
      "text/plain": [
       "3"
      ]
     },
     "execution_count": 146,
     "metadata": {},
     "output_type": "execute_result"
    }
   ],
   "source": [
    "#random number from sequence of number\n",
    "t = [1, 2, 3]\n",
    "random.choice(t)"
   ]
  },
  {
   "cell_type": "code",
   "execution_count": 138,
   "metadata": {},
   "outputs": [
    {
     "data": {
      "text/plain": [
       "(1, 'wrist')"
      ]
     },
     "execution_count": 138,
     "metadata": {},
     "output_type": "execute_result"
    }
   ],
   "source": [
    "random.choice(t)"
   ]
  },
  {
   "cell_type": "code",
   "execution_count": 159,
   "metadata": {},
   "outputs": [
    {
     "name": "stdout",
     "output_type": "stream",
     "text": [
      "{'a': 2, 'b': 1, 'c': 2, 'e': 1}\n"
     ]
    }
   ],
   "source": [
    "#Making histogram, example (algorithm) similar to chapter in dictionary. \n",
    "import random\n",
    "t = ['a', 'a', 'b','c','c','e']\n",
    "\n",
    "def histogram(l):\n",
    "    d = dict()\n",
    "    for key in l:\n",
    "        d[key] = d.get(key, 0) + 1\n",
    "    return d\n",
    "\n",
    "print(histogram(t))\n"
   ]
  },
  {
   "cell_type": "code",
   "execution_count": 162,
   "metadata": {},
   "outputs": [
    {
     "name": "stdout",
     "output_type": "stream",
     "text": [
      "{'1': 1, 'in': 6, 'my': 3, 'former': 1, 'book': 1, 'theophilus': 1, 'i': 1, 'wrote': 1, 'about': 3, 'all': 2, 'that': 2, 'jesus': 2, 'began': 1, 'to': 11, 'do': 3, 'and': 9, 'teach': 1, '2': 1, 'until': 1, 'the': 15, 'day': 1, 'he': 11, 'was': 5, 'taken': 3, 'up': 3, 'heaven': 3, 'after': 3, 'giving': 1, 'instructions': 1, 'through': 1, 'holy': 3, 'spirit': 3, 'apostles': 1, 'had': 1, 'chosen': 1, '3': 1, 'his': 2, 'suffering': 1, 'presented': 1, 'himself': 1, 'them': 6, 'gave': 2, 'many': 1, 'convincing': 1, 'proofs': 1, 'alive': 1, 'appeared': 1, 'over': 1, 'a': 3, 'period': 1, 'of': 4, 'forty': 1, 'days': 2, 'spoke': 1, 'kingdom': 2, 'god': 1, '4': 1, 'on': 2, 'one': 1, 'occasion': 1, 'while': 1, 'eating': 1, 'with': 1, 'this': 4, 'command': 1, 'not': 2, 'leave': 1, 'jerusalem': 2, 'but': 3, 'wait': 1, 'for': 3, 'gift': 1, 'father': 2, 'promised': 1, 'which': 1, 'you': 10, 'have': 2, 'heard': 1, 'me': 1, 'speak': 1, '5': 1, 'john': 1, 'baptized': 2, 'with[a': 1, 'water': 1, 'few': 1, 'will': 4, 'be': 2, 'with[b': 1, '6': 1, 'then': 1, 'they': 3, 'gathered': 1, 'around': 1, 'him': 4, 'asked': 1, 'lord': 1, 'are': 1, 'at': 1, 'time': 1, 'going': 2, 'restore': 1, 'israel': 1, '7': 1, 'said': 3, 'it': 1, 'is': 1, 'know': 1, 'times': 1, 'or': 1, 'dates': 1, 'has': 2, 'set': 1, 'by': 1, 'own': 1, 'authority': 1, '8': 1, 'receive': 1, 'power': 1, 'when': 2, 'comes': 1, 'witnesses': 1, 'judea': 1, 'samaria': 1, 'ends': 1, 'earth': 1, '9': 1, 'before': 1, 'their': 2, 'very': 1, 'eyes': 1, 'cloud': 1, 'hid': 1, 'from': 2, 'sight': 1, '10': 1, 'were': 1, 'looking': 2, 'intently': 1, 'into': 4, 'sky': 2, 'as': 1, 'suddenly': 1, 'two': 1, 'men': 2, 'dressed': 1, 'white': 1, 'stood': 1, 'beside': 1, '11': 1, 'galilee': 1, 'why': 1, 'stand': 1, 'here': 1, 'same': 2, 'who': 1, 'been': 1, 'come': 1, 'back': 1, 'way': 1, 'seen': 1, 'go': 1}\n"
     ]
    }
   ],
   "source": [
    "def process_file(filename):\n",
    "    hist = dict()\n",
    "    fp = open(filename, encoding=\"utf8\")\n",
    "    for line in fp:\n",
    "        process_line(line, hist)\n",
    "    return hist\n",
    "\n",
    "def process_line(line, hist):\n",
    "    line = line.replace('-', ' ')\n",
    "    \n",
    "    for word in line.split():\n",
    "        word = word.strip(string.punctuation + string.whitespace)\n",
    "        word = word.lower()\n",
    "        hist[word] = hist.get(word, 0) + 1\n",
    "        \n",
    "hist = process_file('Act_1.txt')\n",
    "\n",
    "print(hist)"
   ]
  },
  {
   "cell_type": "code",
   "execution_count": 163,
   "metadata": {},
   "outputs": [
    {
     "name": "stdout",
     "output_type": "stream",
     "text": [
      "Total number of words: 293\n"
     ]
    }
   ],
   "source": [
    "def total_words(hist):\n",
    "    return sum(hist.values())\n",
    "\n",
    "print('Total number of words:', total_words(hist))"
   ]
  },
  {
   "cell_type": "code",
   "execution_count": 166,
   "metadata": {},
   "outputs": [
    {
     "name": "stdout",
     "output_type": "stream",
     "text": [
      "Number of different words: 162\n"
     ]
    }
   ],
   "source": [
    "def different_words(hist):\n",
    "    return len(hist)\n",
    "print('Number of different words:', different_words(hist))\n",
    "\n",
    "\n"
   ]
  },
  {
   "cell_type": "markdown",
   "metadata": {},
   "source": [
    "### 13.4 Most common words"
   ]
  },
  {
   "cell_type": "code",
   "execution_count": 167,
   "metadata": {},
   "outputs": [
    {
     "name": "stdout",
     "output_type": "stream",
     "text": [
      "[(15, 'the'), (11, 'to'), (11, 'he'), (10, 'you'), (9, 'and'), (6, 'them'), (6, 'in'), (5, 'was'), (4, 'will'), (4, 'this'), (4, 'of'), (4, 'into'), (4, 'him'), (3, 'up'), (3, 'they'), (3, 'taken'), (3, 'spirit'), (3, 'said'), (3, 'my'), (3, 'holy'), (3, 'heaven'), (3, 'for'), (3, 'do'), (3, 'but'), (3, 'after'), (3, 'about'), (3, 'a'), (2, 'when'), (2, 'their'), (2, 'that'), (2, 'sky'), (2, 'same'), (2, 'on'), (2, 'not'), (2, 'men'), (2, 'looking'), (2, 'kingdom'), (2, 'jesus'), (2, 'jerusalem'), (2, 'his'), (2, 'have'), (2, 'has'), (2, 'going'), (2, 'gave'), (2, 'from'), (2, 'father'), (2, 'days'), (2, 'be'), (2, 'baptized'), (2, 'all'), (1, 'wrote'), (1, 'witnesses'), (1, 'with[b'), (1, 'with[a'), (1, 'with'), (1, 'why'), (1, 'who'), (1, 'white'), (1, 'while'), (1, 'which'), (1, 'were'), (1, 'way'), (1, 'water'), (1, 'wait'), (1, 'very'), (1, 'until'), (1, 'two'), (1, 'times'), (1, 'time'), (1, 'through'), (1, 'theophilus'), (1, 'then'), (1, 'teach'), (1, 'suffering'), (1, 'suddenly'), (1, 'stood'), (1, 'stand'), (1, 'spoke'), (1, 'speak'), (1, 'sight'), (1, 'set'), (1, 'seen'), (1, 'samaria'), (1, 'restore'), (1, 'receive'), (1, 'proofs'), (1, 'promised'), (1, 'presented'), (1, 'power'), (1, 'period'), (1, 'own'), (1, 'over'), (1, 'or'), (1, 'one'), (1, 'occasion'), (1, 'me'), (1, 'many'), (1, 'lord'), (1, 'leave'), (1, 'know'), (1, 'judea'), (1, 'john'), (1, 'it'), (1, 'israel'), (1, 'is'), (1, 'intently'), (1, 'instructions'), (1, 'i'), (1, 'himself'), (1, 'hid'), (1, 'here'), (1, 'heard'), (1, 'had'), (1, 'god'), (1, 'go'), (1, 'giving'), (1, 'gift'), (1, 'gathered'), (1, 'galilee'), (1, 'forty'), (1, 'former'), (1, 'few'), (1, 'eyes'), (1, 'ends'), (1, 'eating'), (1, 'earth'), (1, 'dressed'), (1, 'day'), (1, 'dates'), (1, 'convincing'), (1, 'command'), (1, 'comes'), (1, 'come'), (1, 'cloud'), (1, 'chosen'), (1, 'by'), (1, 'book'), (1, 'beside'), (1, 'began'), (1, 'before'), (1, 'been'), (1, 'back'), (1, 'authority'), (1, 'at'), (1, 'asked'), (1, 'as'), (1, 'around'), (1, 'are'), (1, 'appeared'), (1, 'apostles'), (1, 'alive'), (1, '9'), (1, '8'), (1, '7'), (1, '6'), (1, '5'), (1, '4'), (1, '3'), (1, '2'), (1, '11'), (1, '10'), (1, '1')]\n"
     ]
    }
   ],
   "source": [
    "def most_common(hist):\n",
    "    t = []\n",
    "    for key, value in hist.items():\n",
    "        t.append((value, key))\n",
    "        \n",
    "        #when sorting tuple it will sort by the first value, in case of first value being same the second value will be compared\n",
    "    t.sort(reverse=True)\n",
    "    return t\n",
    "\n",
    "print(most_common(hist))"
   ]
  },
  {
   "cell_type": "code",
   "execution_count": 168,
   "metadata": {},
   "outputs": [
    {
     "name": "stdout",
     "output_type": "stream",
     "text": [
      "The most common words are:\n",
      "the\t15\n",
      "to\t11\n",
      "he\t11\n",
      "you\t10\n",
      "and\t9\n",
      "them\t6\n",
      "in\t6\n",
      "was\t5\n",
      "will\t4\n",
      "this\t4\n"
     ]
    }
   ],
   "source": [
    "t = most_common(hist)\n",
    "print('The most common words are:')\n",
    "for freq, word in t[:10]:\n",
    "    print(word, freq, sep='\\t')\n"
   ]
  },
  {
   "cell_type": "markdown",
   "metadata": {},
   "source": [
    "### 13.5 Optional parameters"
   ]
  },
  {
   "cell_type": "code",
   "execution_count": 169,
   "metadata": {},
   "outputs": [
    {
     "name": "stdout",
     "output_type": "stream",
     "text": [
      "The most common words are:\n",
      "the\t15\n",
      "to\t11\n",
      "he\t11\n",
      "you\t10\n",
      "and\t9\n",
      "them\t6\n",
      "in\t6\n",
      "was\t5\n",
      "will\t4\n",
      "this\t4\n",
      "\n",
      "The most common words are:\n",
      "the\t15\n",
      "to\t11\n",
      "he\t11\n",
      "you\t10\n",
      "and\t9\n",
      "them\t6\n",
      "in\t6\n",
      "was\t5\n",
      "will\t4\n",
      "this\t4\n",
      "of\t4\n",
      "into\t4\n",
      "him\t4\n",
      "up\t3\n",
      "they\t3\n",
      "taken\t3\n",
      "spirit\t3\n",
      "said\t3\n",
      "my\t3\n",
      "holy\t3\n"
     ]
    }
   ],
   "source": [
    "def print_most_common(hist, num=10):\n",
    "    t = most_common(hist)\n",
    "    print('The most common words are:')\n",
    "    for freq, word in t[:num]:\n",
    "        print(word, freq, sep='\\t')\n",
    "        \n",
    "print_most_common(hist)\n",
    "\n",
    "print()\n",
    "print_most_common(hist, 20)"
   ]
  },
  {
   "cell_type": "markdown",
   "metadata": {},
   "source": [
    "### 13.6 Dictionary subtraction"
   ]
  },
  {
   "cell_type": "code",
   "execution_count": 170,
   "metadata": {},
   "outputs": [
    {
     "name": "stdout",
     "output_type": "stream",
     "text": [
      "Words in the book that aren't in the word list:\n",
      "1 theophilus i wrote that jesus to teach 2 until the was taken up through 3 suffering them a 4 while with this jerusalem wait which you 5 with[a water will with[b 6 then they time israel 7 times 8 when witnesses judea samaria 9 their very 10 were suddenly two white 11 why who way "
     ]
    }
   ],
   "source": [
    "def subtract(d1, d2):\n",
    "    res = dict()\n",
    "    for key in d1:\n",
    "        if key not in d2:\n",
    "            res[key] = None\n",
    "    return res\n",
    "words = process_file('words.txt')\n",
    "diff = subtract(hist, words)\n",
    "\n",
    "print(\"Words in the book that aren't in the word list:\")\n",
    "for word in diff:\n",
    "    print(word, end=' ')"
   ]
  },
  {
   "cell_type": "markdown",
   "metadata": {},
   "source": [
    "### 13.7 Random words"
   ]
  },
  {
   "cell_type": "code",
   "execution_count": 171,
   "metadata": {},
   "outputs": [
    {
     "name": "stdout",
     "output_type": "stream",
     "text": [
      "not\n"
     ]
    }
   ],
   "source": [
    "#creates list everytime it is ran. Not efficient\n",
    "def random_word(h):\n",
    "    t = []\n",
    "    for word, freq in h.items():\n",
    "        t.extend([word] * freq)\n",
    "    return random.choice(t)\n",
    "\n",
    "print (random_word(hist))"
   ]
  },
  {
   "cell_type": "code",
   "execution_count": 172,
   "metadata": {},
   "outputs": [
    {
     "name": "stdout",
     "output_type": "stream",
     "text": [
      "speak\n"
     ]
    }
   ],
   "source": [
    "#create a list then check from existing list\n",
    "\n",
    "import random\n",
    "from bisect import bisect\n",
    "\n",
    "\n",
    "def random_word(hist):\n",
    "    \"\"\"Chooses a random word from a histogram.\n",
    "    The probability of each word is proportional to its frequency.\n",
    "    hist: map from word to frequency\n",
    "    \"\"\"\n",
    "    # TODO: This could be made faster by computing the cumulative\n",
    "    # frequencies once and reusing them.\n",
    "\n",
    "    words = []\n",
    "    freqs = []\n",
    "    total_freq = 0\n",
    "\n",
    "    # make a list of words and a list of cumulative frequencies\n",
    "    for word, freq in hist.items():\n",
    "        total_freq += freq\n",
    "        words.append(word)\n",
    "        freqs.append(total_freq)\n",
    "\n",
    "    # choose a random value and find its location in the cumulative list\n",
    "    x = random.randint(0, total_freq-1)\n",
    "    index = bisect(freqs, x)\n",
    "    return words[index]\n",
    "\n",
    "print (random_word(hist))"
   ]
  },
  {
   "cell_type": "code",
   "execution_count": null,
   "metadata": {},
   "outputs": [],
   "source": []
  }
 ],
 "metadata": {
  "kernelspec": {
   "display_name": "Python 3",
   "language": "python",
   "name": "python3"
  },
  "language_info": {
   "codemirror_mode": {
    "name": "ipython",
    "version": 3
   },
   "file_extension": ".py",
   "mimetype": "text/x-python",
   "name": "python",
   "nbconvert_exporter": "python",
   "pygments_lexer": "ipython3",
   "version": "3.8.3"
  }
 },
 "nbformat": 4,
 "nbformat_minor": 4
}
