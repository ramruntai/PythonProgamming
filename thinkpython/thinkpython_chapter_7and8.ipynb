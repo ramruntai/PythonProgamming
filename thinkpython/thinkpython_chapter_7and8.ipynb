{
 "cells": [
  {
   "cell_type": "markdown",
   "metadata": {},
   "source": [
    "## chapter 7 and 8"
   ]
  },
  {
   "cell_type": "markdown",
   "metadata": {},
   "source": [
    "Today, we'll study iteration and strings\n",
    "\n",
    "Iteration\n",
    "* recursion\n",
    "* for loop\n",
    "* while loop\n",
    "\n",
    "Strings\n",
    "* immutable sequence\n",
    "* traversal\n",
    "* string slices\n",
    "* string methods\n",
    "* in operator\n",
    "* string comparison\n"
   ]
  },
  {
   "cell_type": "code",
   "execution_count": null,
   "metadata": {},
   "outputs": [],
   "source": [
    "### reassignment\n",
    "\n",
    "a = 1\n",
    "a = 2      ## reassignment\n",
    "\n",
    "a = 'You are awesome'\n",
    "\n",
    "a = 1.567899\n"
   ]
  },
  {
   "cell_type": "code",
   "execution_count": null,
   "metadata": {},
   "outputs": [],
   "source": [
    "print(a)"
   ]
  },
  {
   "cell_type": "code",
   "execution_count": null,
   "metadata": {},
   "outputs": [],
   "source": [
    "cnt = 1 \n",
    "cnt = [1, 2, 3 ,4, 5, 'hold on', 5.6]\n",
    "print(type(cnt))\n",
    "print(cnt)"
   ]
  },
  {
   "cell_type": "code",
   "execution_count": null,
   "metadata": {},
   "outputs": [],
   "source": [
    "## update \n",
    "\n",
    "count = 0\n",
    "\n",
    "#print('before update: ', count)\n",
    "print('before update: {}'.format(count))\n",
    "\n",
    "count = count + 1  ## update\n",
    "count += 1 \n",
    "my_long_variable_like_this += 3 \n",
    "\n",
    "\n",
    "print('after update : {}'.format(count))"
   ]
  },
  {
   "cell_type": "code",
   "execution_count": null,
   "metadata": {},
   "outputs": [],
   "source": [
    "1.0 + 0.001 == 1.0"
   ]
  },
  {
   "cell_type": "code",
   "execution_count": null,
   "metadata": {},
   "outputs": [],
   "source": [
    "1.0 + 1e-16 == 1.0"
   ]
  },
  {
   "cell_type": "code",
   "execution_count": null,
   "metadata": {},
   "outputs": [],
   "source": [
    "for i in range(5):\n",
    "    print(i)\n",
    "    "
   ]
  },
  {
   "cell_type": "code",
   "execution_count": null,
   "metadata": {},
   "outputs": [],
   "source": [
    "cnt = 3\n",
    "\n",
    "bcontinue = True\n",
    "\n",
    "while bcontinue:\n",
    "    print(cnt)\n",
    "    if cnt > 4:\n",
    "        bcontinue = False\n",
    "    cnt += 1"
   ]
  },
  {
   "cell_type": "code",
   "execution_count": null,
   "metadata": {},
   "outputs": [],
   "source": [
    "cnt = 0\n",
    "bcontinue = True\n",
    "while (cnt < 5):\n",
    "    print(cnt)\n",
    "    cnt += 1"
   ]
  },
  {
   "cell_type": "code",
   "execution_count": null,
   "metadata": {},
   "outputs": [],
   "source": [
    "for cnt in range(5):\n",
    "    print(cnt)"
   ]
  },
  {
   "cell_type": "markdown",
   "metadata": {},
   "source": [
    "### What is a string? Why matters?"
   ]
  },
  {
   "cell_type": "code",
   "execution_count": null,
   "metadata": {},
   "outputs": [],
   "source": [
    "s = 'banana'\n",
    "b = 'I like '\n",
    "\n",
    "b+s\n",
    "\n",
    "# 'b'\n",
    "s[0]\n"
   ]
  },
  {
   "cell_type": "code",
   "execution_count": null,
   "metadata": {},
   "outputs": [],
   "source": [
    "# I like banana\n",
    "b + s\n",
    "\n",
    "# I like banana.\n",
    "b + str(10) + ' ' + s +'s.' \n"
   ]
  },
  {
   "cell_type": "code",
   "execution_count": null,
   "metadata": {},
   "outputs": [],
   "source": [
    "for c in s:\n",
    "    print(c)"
   ]
  },
  {
   "cell_type": "code",
   "execution_count": null,
   "metadata": {},
   "outputs": [],
   "source": []
  },
  {
   "cell_type": "code",
   "execution_count": null,
   "metadata": {},
   "outputs": [],
   "source": [
    "s = 'banana'\n",
    "s[0]    # b \n",
    "s[0:2]  # ba \n",
    "s[-3:]  # ana\n",
    "s[-3:-1]# an"
   ]
  },
  {
   "cell_type": "code",
   "execution_count": null,
   "metadata": {},
   "outputs": [],
   "source": [
    "## quiz: want to access nan in banana\n",
    "\n",
    "#s[m:n]\n",
    "s[2:-1]  # or s[-4:-1]\n",
    "#s[-4:-1]"
   ]
  },
  {
   "cell_type": "code",
   "execution_count": null,
   "metadata": {},
   "outputs": [],
   "source": [
    "# Can we replace characters in a string\n",
    "# NO\n",
    "# only reassignment of the entire string\n",
    "\n",
    "s = 'banana' # canada # immutable\n",
    "s = 'canana' # reassignment\n",
    "#s[0] = 'c'\n",
    "#s[-2] = 'd'"
   ]
  },
  {
   "cell_type": "code",
   "execution_count": null,
   "metadata": {},
   "outputs": [],
   "source": [
    "mail = '''Hi David, \n",
    "Welcome to Google. Your new account comes with access to Google products, apps, and services.\n",
    "Here are a few tips to get you started. GSA Stay in the know with the Google app Find quick answers, explore your interests, and stay up to date.\n",
    "Try it '''"
   ]
  },
  {
   "cell_type": "code",
   "execution_count": null,
   "metadata": {},
   "outputs": [],
   "source": [
    "# checking a word in mail string\n",
    "\"Google\" in mail"
   ]
  },
  {
   "cell_type": "code",
   "execution_count": null,
   "metadata": {},
   "outputs": [],
   "source": [
    "# checking a sentence in mail string\n",
    "\"Welcome to Google\" in mail\n",
    "# how about lower case google\n",
    "# 'google' in mail\n",
    "# how can we find a word ignoring lower and upper cases?"
   ]
  },
  {
   "cell_type": "code",
   "execution_count": null,
   "metadata": {},
   "outputs": [],
   "source": [
    "mail.find('Google')"
   ]
  },
  {
   "cell_type": "code",
   "execution_count": null,
   "metadata": {},
   "outputs": [],
   "source": [
    "## reading a text file\n",
    "## method 1\n",
    "## using a for loop\n",
    "\n",
    "with open('harari.txt', 'r') as f:\n",
    "    cnt = 0\n",
    "    for line in f:\n",
    "       \n",
    "        cnt += 1\n",
    "        if( line.find('humanity')!= -1):\n",
    "            print(\"I found humanity\")\n",
    "            print(cnt, \":\", line)\n",
    "        \n",
    "        if cnt >10:\n",
    "            break "
   ]
  },
  {
   "cell_type": "code",
   "execution_count": null,
   "metadata": {},
   "outputs": [],
   "source": [
    "## reading a text file\n",
    "## method 2\n",
    "## using iterator and  next() function\n",
    "\n",
    "f = open('harari.txt')"
   ]
  },
  {
   "cell_type": "code",
   "execution_count": null,
   "metadata": {},
   "outputs": [],
   "source": [
    "line = next(f)\n",
    "print(line)"
   ]
  },
  {
   "cell_type": "code",
   "execution_count": null,
   "metadata": {},
   "outputs": [],
   "source": [
    "print(line)"
   ]
  },
  {
   "cell_type": "code",
   "execution_count": null,
   "metadata": {},
   "outputs": [],
   "source": [
    "line = next(f)"
   ]
  },
  {
   "cell_type": "code",
   "execution_count": null,
   "metadata": {},
   "outputs": [],
   "source": [
    "print(line)"
   ]
  },
  {
   "cell_type": "code",
   "execution_count": null,
   "metadata": {},
   "outputs": [],
   "source": [
    "words = line.split()"
   ]
  },
  {
   "cell_type": "code",
   "execution_count": null,
   "metadata": {},
   "outputs": [],
   "source": [
    "print(words)"
   ]
  },
  {
   "cell_type": "code",
   "execution_count": null,
   "metadata": {},
   "outputs": [],
   "source": [
    "words.sort()"
   ]
  },
  {
   "cell_type": "code",
   "execution_count": null,
   "metadata": {},
   "outputs": [],
   "source": [
    "print(words)"
   ]
  },
  {
   "cell_type": "code",
   "execution_count": null,
   "metadata": {},
   "outputs": [],
   "source": [
    "for w in words:\n",
    "    if w == 'humanity':\n",
    "        print(\"We have 'humanity'\")"
   ]
  },
  {
   "cell_type": "code",
   "execution_count": null,
   "metadata": {},
   "outputs": [],
   "source": [
    "customers = ['Lee', 'Kim', 'Chun']\n",
    "\n",
    "#'Lee' > 'Kim'\n",
    "#'Chun' > 'Lee'\n",
    "'amy'>'Amy'"
   ]
  },
  {
   "cell_type": "code",
   "execution_count": null,
   "metadata": {},
   "outputs": [],
   "source": [
    "customers.sort()"
   ]
  },
  {
   "cell_type": "code",
   "execution_count": null,
   "metadata": {},
   "outputs": [],
   "source": [
    "for c in customers:\n",
    "    print(c)"
   ]
  },
  {
   "cell_type": "code",
   "execution_count": null,
   "metadata": {},
   "outputs": [],
   "source": [
    "def is_reverse(word1, word2):\n",
    "    '''\n",
    "    return true if word1 is the reverse of word2\n",
    "    \n",
    "    '''\n",
    "    len1 = len(word1)\n",
    "    len2 = len(word2)\n",
    "    if(len1 != len2):\n",
    "        return False\n",
    "    \n",
    "    i = 0\n",
    "    j = len2\n",
    "    \n",
    "    while j > 0:\n",
    "        if(word1[i] != word2[j]):\n",
    "            return False\n",
    "        \n",
    "        i += 1\n",
    "        j -= 1\n",
    "        \n",
    "    return True\n",
    "    "
   ]
  },
  {
   "cell_type": "code",
   "execution_count": null,
   "metadata": {},
   "outputs": [],
   "source": [
    "is_reverse('seu', 'ues')"
   ]
  }
 ],
 "metadata": {
  "kernelspec": {
   "display_name": "Python 3",
   "language": "python",
   "name": "python3"
  },
  "language_info": {
   "codemirror_mode": {
    "name": "ipython",
    "version": 3
   },
   "file_extension": ".py",
   "mimetype": "text/x-python",
   "name": "python",
   "nbconvert_exporter": "python",
   "pygments_lexer": "ipython3",
   "version": "3.7.3"
  }
 },
 "nbformat": 4,
 "nbformat_minor": 4
}
