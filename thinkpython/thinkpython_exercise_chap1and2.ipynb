{
 "cells": [
  {
   "cell_type": "markdown",
   "metadata": {},
   "source": [
    "# Think Python 2 Review\n",
    "## Chapter 1 and 2"
   ]
  },
  {
   "cell_type": "markdown",
   "metadata": {},
   "source": [
    "Welcome to today's Q&A session.\n",
    "We take a look at exercise problem in chapter 1 and 2."
   ]
  },
  {
   "cell_type": "markdown",
   "metadata": {},
   "source": [
    "Here are a few messages to take with you\n",
    "* Make mistakes and be creative\n",
    "* Shake your understanding and knowledge (Shake test).\n",
    "\n",
    "* Ask why one works and the other does not work\n",
    "* Try to understand error messages"
   ]
  },
  {
   "cell_type": "markdown",
   "metadata": {},
   "source": [
    "### Excercise 1.1 Please write down the results when you run the following pieces of code"
   ]
  },
  {
   "cell_type": "code",
   "execution_count": null,
   "metadata": {},
   "outputs": [],
   "source": [
    "--6"
   ]
  },
  {
   "cell_type": "code",
   "execution_count": null,
   "metadata": {},
   "outputs": [],
   "source": [
    "x = 5"
   ]
  },
  {
   "cell_type": "code",
   "execution_count": null,
   "metadata": {},
   "outputs": [],
   "source": [
    "42 = x"
   ]
  },
  {
   "cell_type": "code",
   "execution_count": null,
   "metadata": {},
   "outputs": [],
   "source": [
    "x = 0b9"
   ]
  },
  {
   "cell_type": "code",
   "execution_count": null,
   "metadata": {},
   "outputs": [],
   "source": [
    "y = 011"
   ]
  },
  {
   "cell_type": "code",
   "execution_count": null,
   "metadata": {},
   "outputs": [],
   "source": [
    "b = 0b11 # binary  00 - 0, 01 - 1, 10 - 2, 11 - 3, 100 - 4\n",
    "x = 0x11 # hexademical\n",
    "\n",
    "print(b)\n",
    "print(x)"
   ]
  },
  {
   "cell_type": "code",
   "execution_count": null,
   "metadata": {},
   "outputs": [],
   "source": [
    "2---2"
   ]
  },
  {
   "cell_type": "code",
   "execution_count": null,
   "metadata": {},
   "outputs": [],
   "source": [
    "--4"
   ]
  },
  {
   "cell_type": "code",
   "execution_count": null,
   "metadata": {},
   "outputs": [],
   "source": [
    "---4"
   ]
  },
  {
   "cell_type": "code",
   "execution_count": null,
   "metadata": {},
   "outputs": [],
   "source": [
    "+++4"
   ]
  },
  {
   "cell_type": "code",
   "execution_count": null,
   "metadata": {},
   "outputs": [],
   "source": [
    "2**4 # exponetiation 2*2*2*2"
   ]
  },
  {
   "cell_type": "code",
   "execution_count": null,
   "metadata": {},
   "outputs": [],
   "source": [
    "1**2"
   ]
  },
  {
   "cell_type": "code",
   "execution_count": null,
   "metadata": {},
   "outputs": [],
   "source": [
    "lambda = 4"
   ]
  },
  {
   "cell_type": "code",
   "execution_count": null,
   "metadata": {},
   "outputs": [],
   "source": [
    "## Method 1\n",
    "f = lambda inputx: 3*inputx**2\n",
    "\n",
    "## Method 2\n",
    "def myf(inputx):\n",
    "    return 3*inputx**2\n",
    "\n",
    "print(myf(4))"
   ]
  },
  {
   "cell_type": "code",
   "execution_count": null,
   "metadata": {},
   "outputs": [],
   "source": [
    "a = 1"
   ]
  },
  {
   "cell_type": "code",
   "execution_count": null,
   "metadata": {},
   "outputs": [],
   "source": [
    "A = 2\n",
    "print(\"a: \", a)\n",
    "print(\"A: \", A)"
   ]
  },
  {
   "cell_type": "code",
   "execution_count": null,
   "metadata": {},
   "outputs": [],
   "source": [
    "A *= 3 ## A = A*2 \n",
    "print(A)"
   ]
  },
  {
   "cell_type": "markdown",
   "metadata": {},
   "source": [
    "### Excercise 1.2 "
   ]
  },
  {
   "cell_type": "code",
   "execution_count": null,
   "metadata": {},
   "outputs": [],
   "source": [
    "## Method \n",
    "## \n",
    "10/1.61\n",
    "20/1.61\n",
    "55/1.61"
   ]
  },
  {
   "cell_type": "code",
   "execution_count": null,
   "metadata": {},
   "outputs": [],
   "source": [
    "# Exercise 1.2\n",
    "'''\n",
    "We are solving Exercise 1.2\n",
    "'''\n",
    "# problem 2\n",
    "# 10 km -> miles \n",
    "# 1mile  = 1.61 km \n",
    "\n",
    "''' \n",
    "  We are solving\n",
    "  Do you think this is working \n",
    "'''\n",
    "\"\"\"\n",
    " Does this works? \n",
    " Yes\n",
    "\"\"\"\n",
    "\n",
    "kiloPerMiles = 1.61 ## 1.61 km / mile\n",
    "distance_km  = 10   ## km \n",
    "distance_mi  = distance_km/kiloPerMiles"
   ]
  },
  {
   "cell_type": "markdown",
   "metadata": {},
   "source": [
    "### Excercise 2.2 "
   ]
  },
  {
   "cell_type": "code",
   "execution_count": null,
   "metadata": {},
   "outputs": [],
   "source": [
    "# Exercise 2.2\n",
    "\n",
    "# problem 1\n",
    "\"\"\"\n",
    "We are calculating the volume of a sphere\n",
    "\"\"\"\n",
    "pi = 3.14\n",
    "radius = 5\n",
    "volSph = 4/3*pi*radius**3\n",
    "print(\"The radius is \", radius)\n",
    "print(\"The volume of your sphere is \", volSph)"
   ]
  },
  {
   "cell_type": "code",
   "execution_count": null,
   "metadata": {},
   "outputs": [],
   "source": [
    "# Exercise 2.2\n",
    "\n",
    "# problem 1\n",
    "\n",
    "import math\n",
    "radius = 5\n",
    "volSph = 4/3*math.pi*radius**3\n",
    "print(\"The radius is \", radius)\n",
    "print(\"The volume of your sphere is \", volSph)"
   ]
  },
  {
   "cell_type": "code",
   "execution_count": null,
   "metadata": {},
   "outputs": [],
   "source": [
    "# Exercise 2.2\n",
    "\n",
    "# problem 2\n",
    "\n",
    "## introduce function \n",
    "\n",
    "price = 24.95\n",
    "discount = 0.4\n",
    "shipping_first = 3.0\n",
    "shipping_additional = 0.75\n",
    "\n",
    "totalWeight = 5.7 #  per lb\n",
    "shippingPerWeight = 0.95 # per lb\n",
    "numOrder = 60\n",
    "\n",
    "bookCost  = price*numOrder*(1-discount)\n",
    "\n",
    "shippingCost = 3.0 + 0.75*(numOrder-1)\n",
    "\n",
    "if (order is books)\n",
    "    shippingCost = shipping_first + shipping_additional*(numOrder-1)\n",
    "else:\n",
    "    shippingCost = totalWeight*shippingPerWeight\n",
    "\n",
    "TotalCost = bookCost + shippingCost\n",
    "\n",
    "print(\"Total Cost: {} \\nwhen {} books ordered\".format(TotalCost, numOrder))"
   ]
  }
 ],
 "metadata": {
  "kernelspec": {
   "display_name": "Python 3",
   "language": "python",
   "name": "python3"
  },
  "language_info": {
   "codemirror_mode": {
    "name": "ipython",
    "version": 3
   },
   "file_extension": ".py",
   "mimetype": "text/x-python",
   "name": "python",
   "nbconvert_exporter": "python",
   "pygments_lexer": "ipython3",
   "version": "3.7.3"
  }
 },
 "nbformat": 4,
 "nbformat_minor": 4
}
