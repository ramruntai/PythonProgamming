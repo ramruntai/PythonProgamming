{
 "cells": [
  {
   "cell_type": "markdown",
   "metadata": {},
   "source": [
    "# Think Python 2 Review\n",
    "## Chapter 10 "
   ]
  },
  {
   "cell_type": "markdown",
   "metadata": {},
   "source": [
    "Welcome to today's python review session for think python chapter 10\n",
    "\n",
    "From 09/08/2020 Q&A sessions are held on Tuesday 9 pm ET and on Saturday 7 am ET. "
   ]
  },
  {
   "cell_type": "markdown",
   "metadata": {},
   "source": [
    "## In the following weeks, we study list, tuple, and dictionary\n",
    "* list - sequence of values\n",
    "* tuple - immutable sequence of values\n",
    "* dictionary - mapping between keys and values"
   ]
  },
  {
   "cell_type": "markdown",
   "metadata": {},
   "source": [
    "### Definitions\n",
    "\n",
    "- Elements (items) - values in a list\n",
    "\n",
    "- sequence: An ordered collection of values where each value is identified by an integer index.\n",
    "- item: One of the values in a sequence.\n",
    "- index: An integer value used to select an item in a sequence, such as a character in a string. In Python indices start from 0."
   ]
  },
  {
   "cell_type": "markdown",
   "metadata": {},
   "source": [
    "### craeting list"
   ]
  },
  {
   "cell_type": "code",
   "execution_count": null,
   "metadata": {},
   "outputs": [],
   "source": [
    "# a sequence of names\n",
    "names = [\"David\", \"Nehemiah\", \"Esther\"]\n",
    "\n",
    "# a sequence of inhomogenous items\n",
    "customer1 = [\"Ezra\", '123-45-5678', 35, 'Edmondo University' ]\n",
    "customer2 = [\"Hagai\", '456-78-9854', 67, 'Hyanis College' ]\n",
    "\n",
    "customers = [customer1, customer2]"
   ]
  },
  {
   "cell_type": "code",
   "execution_count": null,
   "metadata": {},
   "outputs": [],
   "source": [
    "print(customers)"
   ]
  },
  {
   "cell_type": "code",
   "execution_count": null,
   "metadata": {},
   "outputs": [],
   "source": [
    "customers"
   ]
  },
  {
   "cell_type": "code",
   "execution_count": null,
   "metadata": {},
   "outputs": [],
   "source": [
    "# to access \"Ezra\" in customer1\n",
    "print(\"through customer1:\", customer1[0])\n",
    "# or \n",
    "print(\"through customers:\", customers[0][0])"
   ]
  },
  {
   "cell_type": "code",
   "execution_count": null,
   "metadata": {},
   "outputs": [],
   "source": [
    "# another way to make the list, customers \n",
    "customers = []\n",
    "customers.append(customer1)\n",
    "customers.append(customer2)"
   ]
  },
  {
   "cell_type": "code",
   "execution_count": null,
   "metadata": {},
   "outputs": [],
   "source": [
    "## make a list using a for loop\n",
    "mylist = [ i for i in range(10)]\n",
    "\n",
    "## another method\n",
    "mylist = []\n",
    "for i in range(100):\n",
    "    mylist.append(i)"
   ]
  },
  {
   "cell_type": "markdown",
   "metadata": {},
   "source": [
    "### In practice"
   ]
  },
  {
   "cell_type": "code",
   "execution_count": null,
   "metadata": {},
   "outputs": [],
   "source": [
    "class rtoran_customer:\n",
    "    def __init__(self, name, address, phone='999-999-9999', email_address='user@gmail.com'):\n",
    "        self.name = name\n",
    "        self.address = address\n",
    "        self.phone = phone\n",
    "        self.email_address = email_address\n",
    "    def __repr__(self):\n",
    "        return (self.name + \" from \" + self.address)\n"
   ]
  },
  {
   "cell_type": "code",
   "execution_count": null,
   "metadata": {},
   "outputs": [],
   "source": [
    "# on day 0\n",
    "customers  = []\n",
    "\n",
    "# on day 1\n",
    "customer1 = rtoran_customer(\"Issac Newton\", \"Londong, UK\")\n",
    "customers.append(customer1)\n",
    "\n",
    "print(\"Day 1\")\n",
    "for customer in customers:\n",
    "    print(customer)\n",
    "\n",
    "# on day 4\n",
    "print(\"Day 4\")\n",
    "customer2 = rtoran_customer(\"Leonhard Euler\", \"Saint Petersburg, Russia\")\n",
    "customers.append(customer2)\n",
    "for customer in customers:\n",
    "    print(customer)\n",
    "\n",
    "# on day 185\n",
    "print(\"Day 185\")\n",
    "customer3 = rtoran_customer(\"Rene Descartes\", \"Paris, France\")\n",
    "customers.append(customer3)\n",
    "for customer in customers:\n",
    "    print(customer)"
   ]
  },
  {
   "cell_type": "code",
   "execution_count": null,
   "metadata": {},
   "outputs": [],
   "source": [
    "# on day 0\n",
    "customers  = []\n",
    "\n",
    "# on day 1\n",
    "customer1 = rtoran_customer(\"Issac Newton\", \"Londong, UK\")\n",
    "customers.append(customer1)\n",
    "\n",
    "print(\"Day 1\")\n",
    "for i, customer in enumerate(customers):\n",
    "    print(\"{0:5d}. {1:}\".format(i, customer))\n",
    " \n",
    "# on day 4\n",
    "print(\"\\n\\nDay 4\")\n",
    "customer2 = rtoran_customer(\"Leonhard Euler\", \"Saint Petersburg, Russia\")\n",
    "customers.append(customer2)\n",
    "for i, customer in enumerate(customers):\n",
    "    print(\"{0:5d}. {1:}\".format(i, customer))\n",
    "\n",
    "# on day 185\n",
    "print(\"\\n\\nDay 185\")\n",
    "customer3 = rtoran_customer(\"Rene Descartes\", \"Paris, France\")\n",
    "customers.append(customer3)\n",
    "for i, customer in enumerate(customers):\n",
    "    print(\"{0:5d}. {1:}\".format(i, customer))"
   ]
  },
  {
   "cell_type": "markdown",
   "metadata": {},
   "source": [
    "### modifying & updating"
   ]
  },
  {
   "cell_type": "code",
   "execution_count": null,
   "metadata": {},
   "outputs": [],
   "source": [
    "alist = [1, 2, 3]\n",
    "blist = [4, 5]"
   ]
  },
  {
   "cell_type": "code",
   "execution_count": null,
   "metadata": {},
   "outputs": [],
   "source": [
    "## how to get the last element\n",
    "alist[-1]"
   ]
  },
  {
   "cell_type": "code",
   "execution_count": null,
   "metadata": {},
   "outputs": [],
   "source": [
    "## how to get the last 5 element\n",
    "mylist = list(range(50))\n",
    "mylist[49:40:-1]"
   ]
  },
  {
   "cell_type": "code",
   "execution_count": null,
   "metadata": {},
   "outputs": [],
   "source": [
    "alist + blist "
   ]
  },
  {
   "cell_type": "code",
   "execution_count": null,
   "metadata": {},
   "outputs": [],
   "source": [
    "alist*2"
   ]
  },
  {
   "cell_type": "code",
   "execution_count": null,
   "metadata": {},
   "outputs": [],
   "source": [
    "blist = [4, 5]\n",
    "print(\"before deleting:\", blist)\n",
    "del blist[-1]\n",
    "print(\"after deleting:\", blist)"
   ]
  },
  {
   "cell_type": "markdown",
   "metadata": {},
   "source": [
    "### list arguments"
   ]
  },
  {
   "cell_type": "code",
   "execution_count": null,
   "metadata": {},
   "outputs": [],
   "source": [
    "def chop(t):\n",
    "    t = t[1:-1]"
   ]
  },
  {
   "cell_type": "code",
   "execution_count": null,
   "metadata": {},
   "outputs": [],
   "source": [
    "t = [1,2 ,3, 4]\n",
    "chop(t)"
   ]
  },
  {
   "cell_type": "code",
   "execution_count": null,
   "metadata": {},
   "outputs": [],
   "source": [
    "t"
   ]
  },
  {
   "cell_type": "code",
   "execution_count": null,
   "metadata": {},
   "outputs": [],
   "source": [
    "def chop(t):\n",
    "    del t[0]\n",
    "    del t[-1]"
   ]
  },
  {
   "cell_type": "code",
   "execution_count": null,
   "metadata": {},
   "outputs": [],
   "source": [
    "chop(t)"
   ]
  },
  {
   "cell_type": "code",
   "execution_count": null,
   "metadata": {},
   "outputs": [],
   "source": [
    "t"
   ]
  },
  {
   "cell_type": "code",
   "execution_count": null,
   "metadata": {},
   "outputs": [],
   "source": [
    "def changeto4(myvar):\n",
    "    myvar = 4\n",
    "\n",
    "def append4(mylist):\n",
    "    mylist.append(4)"
   ]
  },
  {
   "cell_type": "code",
   "execution_count": null,
   "metadata": {},
   "outputs": [],
   "source": [
    "mynum = 999\n",
    "changeto4(mynum)\n",
    "mynumlist = [999]\n",
    "append4(mynumlist)"
   ]
  },
  {
   "cell_type": "code",
   "execution_count": null,
   "metadata": {},
   "outputs": [],
   "source": [
    "mynum, mynumlist"
   ]
  },
  {
   "cell_type": "markdown",
   "metadata": {},
   "source": [
    "### iterating nested List"
   ]
  },
  {
   "cell_type": "code",
   "execution_count": null,
   "metadata": {},
   "outputs": [],
   "source": [
    "nested_list = ['spam', 1, ['Brie', 'Roquefort', 'Pol le Veq'], [1, 2, 3]] + [\"456\"]\n",
    "nested_list[0] = {0: \"Hey\", 1:\"You\"}\n",
    "for ith, m in enumerate(nested_list):\n",
    "    \n",
    "    print('{} th element: {}'.format(ith, m))\n",
    "    if isinstance(m, list):\n",
    "        print('  -- length of list: ',len(m))\n",
    "    elif isinstance(m, dict):\n",
    "        for k, v in m.items():\n",
    "            print(\"  -- {}: {}\".format(k, v))"
   ]
  },
  {
   "cell_type": "code",
   "execution_count": null,
   "metadata": {},
   "outputs": [],
   "source": [
    "len(nested_list)"
   ]
  },
  {
   "cell_type": "markdown",
   "metadata": {},
   "source": [
    "### string to list"
   ]
  },
  {
   "cell_type": "code",
   "execution_count": null,
   "metadata": {},
   "outputs": [],
   "source": [
    "mstring = \"we are the python study group\"\n",
    "hg_list = list(mstring)\n"
   ]
  },
  {
   "cell_type": "code",
   "execution_count": null,
   "metadata": {},
   "outputs": [],
   "source": [
    "print(len(hg_list))\n",
    "\n",
    "hg_list[0]= 'W'\n",
    "hg_list.append('.')\n",
    "print(hg_list)\n",
    "\n",
    "my_string = ''.join(hg_list)\n",
    "print(my_string)"
   ]
  },
  {
   "cell_type": "markdown",
   "metadata": {},
   "source": [
    "## Dictionary"
   ]
  },
  {
   "cell_type": "code",
   "execution_count": null,
   "metadata": {},
   "outputs": [],
   "source": [
    "## dictionary\n",
    "dictionary_data = {0:\"we\", 1:\"are\", 2:\"the\"}\n",
    "hg_list_keys_not_yet = dictionary_data.keys()\n",
    "hg_list_items_not_yet = dictionary_data.items()\n",
    "\n",
    "hg_list_keys = list(dictionary_data.keys())\n",
    "hg_list_items = list(dictionary_data.items())\n",
    "print(hg_list_keys)"
   ]
  },
  {
   "cell_type": "code",
   "execution_count": null,
   "metadata": {},
   "outputs": [],
   "source": [
    "print(hg_list_items)"
   ]
  },
  {
   "cell_type": "code",
   "execution_count": null,
   "metadata": {},
   "outputs": [],
   "source": [
    "hg_list_items[0][1]"
   ]
  },
  {
   "cell_type": "code",
   "execution_count": null,
   "metadata": {},
   "outputs": [],
   "source": [
    "type(a_dictionary)"
   ]
  },
  {
   "cell_type": "markdown",
   "metadata": {},
   "source": [
    "## Tuples"
   ]
  },
  {
   "cell_type": "code",
   "execution_count": null,
   "metadata": {},
   "outputs": [],
   "source": [
    "hg_tuple = tuple(mstring)"
   ]
  },
  {
   "cell_type": "code",
   "execution_count": null,
   "metadata": {},
   "outputs": [],
   "source": [
    "print(hg_tuple)"
   ]
  },
  {
   "cell_type": "code",
   "execution_count": null,
   "metadata": {},
   "outputs": [],
   "source": [
    "hg_tuple[0:5]"
   ]
  },
  {
   "cell_type": "code",
   "execution_count": null,
   "metadata": {},
   "outputs": [],
   "source": [
    "hg_tuple[-6:-2]"
   ]
  },
  {
   "cell_type": "code",
   "execution_count": null,
   "metadata": {},
   "outputs": [],
   "source": [
    "## reverse the tuple\n",
    "hg_tuple[::-1]"
   ]
  },
  {
   "cell_type": "code",
   "execution_count": null,
   "metadata": {},
   "outputs": [],
   "source": [
    "## When and why use one over the other?\n",
    "\n",
    "# tuple - immutable, can be used as a key in dictionary\n",
    "# list  - very general"
   ]
  },
  {
   "cell_type": "code",
   "execution_count": null,
   "metadata": {},
   "outputs": [],
   "source": [
    "# use tuples for a dictionary\n",
    "A = dict()\n",
    "A[(1, 45, 7)] = 'a'\n",
    "A[(2, 1, 8)] = 'b'\n",
    "A[(1, 45, 9)] = 'c'"
   ]
  },
  {
   "cell_type": "code",
   "execution_count": null,
   "metadata": {},
   "outputs": [],
   "source": [
    "sorted(A.items())"
   ]
  },
  {
   "cell_type": "markdown",
   "metadata": {},
   "source": [
    "### sorting objects"
   ]
  },
  {
   "cell_type": "code",
   "execution_count": null,
   "metadata": {},
   "outputs": [],
   "source": [
    "class myobject:\n",
    "    def __init__(self, x, y):\n",
    "        self.x = x\n",
    "        self.y = y\n",
    "    def __lt__(self, other):\n",
    "        if(self.y == other.y):\n",
    "            return self.x < other.x\n",
    "        return (self.y < other.y)\n",
    "    def __repr__(self):\n",
    "        return '{},{}'.format(self.x, self.y)"
   ]
  },
  {
   "cell_type": "code",
   "execution_count": null,
   "metadata": {},
   "outputs": [],
   "source": [
    "a = myobject(1, 2)"
   ]
  },
  {
   "cell_type": "code",
   "execution_count": null,
   "metadata": {},
   "outputs": [],
   "source": [
    "b = myobject(2, 2)\n",
    "c = myobject(3, 1)"
   ]
  },
  {
   "cell_type": "code",
   "execution_count": null,
   "metadata": {},
   "outputs": [],
   "source": [
    "sl = sorted([a, b, c])"
   ]
  },
  {
   "cell_type": "code",
   "execution_count": null,
   "metadata": {},
   "outputs": [],
   "source": [
    "for s in sl:\n",
    "    print(s)"
   ]
  }
 ],
 "metadata": {
  "kernelspec": {
   "display_name": "Python 3",
   "language": "python",
   "name": "python3"
  },
  "language_info": {
   "codemirror_mode": {
    "name": "ipython",
    "version": 3
   },
   "file_extension": ".py",
   "mimetype": "text/x-python",
   "name": "python",
   "nbconvert_exporter": "python",
   "pygments_lexer": "ipython3",
   "version": "3.7.3"
  }
 },
 "nbformat": 4,
 "nbformat_minor": 4
}
