{
 "cells": [
  {
   "cell_type": "markdown",
   "metadata": {},
   "source": [
    "# Think Python 2 Review\n",
    "## Chapter 7 and 8"
   ]
  },
  {
   "cell_type": "markdown",
   "metadata": {},
   "source": [
    "### Iteration"
   ]
  },
  {
   "cell_type": "code",
   "execution_count": null,
   "metadata": {},
   "outputs": [],
   "source": [
    "# Square root - Newton's method \n",
    "# sqrt(A) = x\n",
    "# A = x^2 \n",
    "# f(x) = x^2 - A, find solution when f(x)=0 "
   ]
  },
  {
   "cell_type": "code",
   "execution_count": null,
   "metadata": {},
   "outputs": [],
   "source": [
    "import math\n",
    "from math import fabs\n",
    "\n",
    "def newtonSqrt(a:float)->float:\n",
    "    error = 1E-10\n",
    "    x_n = a/2 # initial value \n",
    "    x_n_1 = 0.5 * (x_n + a/x_n)\n",
    "    while math.fabs(x_n_1**2 - a) > error:\n",
    "        x_n = x_n_1\n",
    "        x_n_1 = 0.5 * (x_n + a/x_n)\n",
    "    return x_n_1"
   ]
  },
  {
   "cell_type": "code",
   "execution_count": null,
   "metadata": {},
   "outputs": [],
   "source": [
    "import math \n",
    "x = 3.5\n",
    "print('Squre root from math module : {}'.format(math.sqrt(x)))\n",
    "print('Squre root from newton square : {}'.format(newtonSqrt(x)))"
   ]
  },
  {
   "cell_type": "markdown",
   "metadata": {},
   "source": [
    "### String & Slicing"
   ]
  },
  {
   "cell_type": "code",
   "execution_count": null,
   "metadata": {},
   "outputs": [],
   "source": [
    "a ='a'\n",
    "b = 'A'\n",
    "print(a > b)\n",
    "\n",
    "# Program to find the ASCII value of the given character\n",
    "print(\"The ASCII value of '\" + a + \"' is\", ord(a))\n",
    "print(\"The ASCII value of '\" + b + \"' is\", ord(b))\n",
    "\n",
    "a = '!aaa'\n",
    "b = '#aaa'\n",
    "print('Is {} larger (comes later) than {}? : {}'.format(a, b,  a>b))\n",
    "print('!' > '#')\n",
    "print('ord({})={} and ord({})={}'.format(a[0], ord(a[0]), b[0], ord(b[0])))\n",
    "\n",
    "print(a)\n",
    "anew = a.replace('a','t') # different from a = a.replace('a', 't')\n",
    "print(anew)\n",
    "#how about a?\n",
    "print(a)\n",
    "\n",
    "print(a)\n",
    "anew = a.replace('1','t')\n",
    "print(anew)\n",
    "#how about a?\n",
    "print(a)\n",
    "\n",
    "\n",
    "c = \"AAA\"\n",
    "b = \"aaa\"\n",
    "print(c == b)"
   ]
  },
  {
   "cell_type": "code",
   "execution_count": null,
   "metadata": {},
   "outputs": [],
   "source": [
    "with open('psalm23.txt', 'r') as f: \n",
    "    cnt = 0\n",
    "    for line in f: \n",
    "        \n",
    "        cnt += 1\n",
    "        if(line.find('\\n') != -1):\n",
    "            print(\"I found Cr/Lf\")\n",
    "            print(cnt, \":\", line)\n",
    "            \n",
    "        if cnt> 10:\n",
    "            break"
   ]
  },
  {
   "cell_type": "code",
   "execution_count": null,
   "metadata": {},
   "outputs": [],
   "source": [
    "#is_reverse('abcdef','fedcba')"
   ]
  },
  {
   "cell_type": "code",
   "execution_count": null,
   "metadata": {},
   "outputs": [],
   "source": [
    "# find two bugs\n",
    "# Can we refactor, making it more efficient\n",
    "# Can we reduce repetive works?\n",
    "\n",
    "def is_reverse(word1, word2):\n",
    "    if (len(word1) != len(word2)):\n",
    "        return False\n",
    "    \n",
    "    i = 0 \n",
    "    j = len(word2)\n",
    "    \n",
    "    while j>0 :\n",
    "        if word1[i] != word2[j]:\n",
    "            return False\n",
    "        i = i+1\n",
    "        j = j-1\n",
    "    return True"
   ]
  },
  {
   "cell_type": "code",
   "execution_count": null,
   "metadata": {},
   "outputs": [],
   "source": [
    "#   0  1  2  3  4  5   \n",
    "#   b  a  n  a  n  a \n",
    "#  -6 -5- 4 -3 -2 -1\n",
    "\n",
    "a = 'banana'\n",
    "#print(a[-4:-7:-1])\n",
    "#print(a[3:5])\n",
    "#print(a[-len(a):len(a)])\n",
    "#print(a[0::2])"
   ]
  },
  {
   "cell_type": "code",
   "execution_count": null,
   "metadata": {},
   "outputs": [],
   "source": [
    "a = '' \n",
    "print(len(a))\n",
    "b = ' '\n",
    "print(len(b))"
   ]
  },
  {
   "cell_type": "code",
   "execution_count": null,
   "metadata": {},
   "outputs": [],
   "source": [
    "s ='aBcDeF'\n",
    "#print(any_lowercase1(s))\n",
    "#print(any_lowercase2(s))\n",
    "#print(any_lowercase3(s))\n",
    "#print(any_lowercase4(s))\n",
    "#print(any_lowercase5(s))"
   ]
  },
  {
   "cell_type": "code",
   "execution_count": null,
   "metadata": {},
   "outputs": [],
   "source": [
    "def any_lowercase1(s): \n",
    "    for c in s: \n",
    "        if c.islower(): \n",
    "            #print('lower case : ' + c)\n",
    "            return True \n",
    "        else: \n",
    "            return False\n",
    "        \n",
    "def any_lowercase2(s): \n",
    "    for c in s: \n",
    "        if 'c'.islower(): \n",
    "            #print('lower case : ' + c)\n",
    "            return 'True' \n",
    "        else: \n",
    "            return 'False'\n",
    "        \n",
    "def any_lowercase3(s): \n",
    "    for c in s: \n",
    "        flag = c.islower() \n",
    "    return flag\n",
    "\n",
    "def any_lowercase4(s): \n",
    "    flag = False \n",
    "    for c in s: \n",
    "        flag = flag or c.islower() \n",
    "    return flag\n",
    "\n",
    "def any_lowercase5(s): \n",
    "    for c in s: \n",
    "        if not c.islower(): \n",
    "            #print(c + \" is not lower case\")\n",
    "            return False \n",
    "    return True "
   ]
  },
  {
   "cell_type": "code",
   "execution_count": null,
   "metadata": {},
   "outputs": [],
   "source": []
  }
 ],
 "metadata": {
  "kernelspec": {
   "display_name": "Python 3",
   "language": "python",
   "name": "python3"
  },
  "language_info": {
   "codemirror_mode": {
    "name": "ipython",
    "version": 3
   },
   "file_extension": ".py",
   "mimetype": "text/x-python",
   "name": "python",
   "nbconvert_exporter": "python",
   "pygments_lexer": "ipython3",
   "version": "3.7.3"
  }
 },
 "nbformat": 4,
 "nbformat_minor": 4
}
