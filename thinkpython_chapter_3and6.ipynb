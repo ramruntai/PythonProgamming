{
 "cells": [
  {
   "cell_type": "markdown",
   "metadata": {},
   "source": [
    "# Week 2 Functions"
   ]
  },
  {
   "cell_type": "markdown",
   "metadata": {},
   "source": [
    "## Functions\n",
    "We will master \n",
    "* void function\n",
    "* fruitful function\n",
    "* docstring and help()\n",
    "* recursion"
   ]
  },
  {
   "cell_type": "code",
   "execution_count": null,
   "metadata": {},
   "outputs": [],
   "source": [
    "#1. Recap - Variables, int, float, str(string),bool (True/False)\n",
    "a = 1\n",
    "b= 3.4+3.5\n",
    "c ='I am remnant'\n",
    "d = 3<4 \n",
    "\n",
    "print(d) \n",
    "type(d)"
   ]
  },
  {
   "cell_type": "code",
   "execution_count": null,
   "metadata": {},
   "outputs": [],
   "source": [
    "#function - Void funtion - return None, Fruitful function - return value \n",
    "print(d) # void function \n",
    "type(d) # Fruitful function \n",
    "\n",
    "r1 = print(d)\n",
    "print(r1)\n",
    "r2 = type(d)\n",
    "print(r2)"
   ]
  },
  {
   "cell_type": "code",
   "execution_count": null,
   "metadata": {},
   "outputs": [],
   "source": [
    "# Expression, Statement, and Function \n",
    "# Expression - A combination of variables, operators, and values that represents a single result\n",
    "3+4 \n",
    "# Statement : A Section of code that represnts a command or action \n",
    "n = 4+6\n",
    "# Function - A Named sequence of statements( Group of statements ) that performs some useful operation "
   ]
  },
  {
   "cell_type": "code",
   "execution_count": null,
   "metadata": {},
   "outputs": [],
   "source": [
    "# Why Function?  separation of concern (Modularization Vs. Monolitic ), reuse, maintainable (readability )\n",
    "#Example) Celebrate Remnant \n",
    "\n",
    "# Monolitic \n",
    "\n",
    "Name1 = 'James'\n",
    "print(\":+:+:+:+:+:+:+:+:+:+:+:+:+:+:+:+:+:+:+:+\")\n",
    "print(\"    Congratulation!! Remnant :\" + Name1)\n",
    "print(\":+:+:+:+:+:+:+:+:+:+:+:+:+:+:+:+:+:+:+:+\")\n",
    "print(\"\")\n",
    "\n",
    "Name2 = 'Larew'\n",
    "print(\":+:+:+:+:+:+:+:+:+:+:+:+:+:+:+:+:+:+:+:+\")\n",
    "print(\"    Congratulation!! Remnant :\" + Name2)\n",
    "print(\":+:+:+:+:+:+:+:+:+:+:+:+:+:+:+:+:+:+:+:+\")\n",
    "print(\"\")\n",
    "\n",
    "\n",
    "# Modularization \n",
    "Name1 = 'James' # Argument - Name1, Name2 - Passed to function\n",
    "Name2 = 'Larew'\n",
    "\n",
    "CelebrateRemnant(Name1) \n",
    "CelebrateRemnant(Name2)\n"
   ]
  },
  {
   "cell_type": "code",
   "execution_count": null,
   "metadata": {},
   "outputs": [],
   "source": [
    "def CelebrateRemnant(name): # name Parameter, used in the function \n",
    "    print(\":+:+:+:+:+:+:+:+:+:+:+:+:+:+:+:+:+:+:+:+\")\n",
    "    print(\"    Congratulation!! Remnant :\" + name)\n",
    "    print(\":+:+:+:+:+:+:+:+:+:+:+:+:+:+:+:+:+:+:+:+\")\n",
    "    print(\"\")\n"
   ]
  },
  {
   "cell_type": "code",
   "execution_count": null,
   "metadata": {},
   "outputs": [],
   "source": [
    "# Life time of variable defined function \n",
    "# Flow of execution \n",
    "\n",
    "def Sum(a,b):\n",
    "    #3/0 #- make error to check call stack \n",
    "    n = a+b\n",
    "    return n\n"
   ]
  },
  {
   "cell_type": "code",
   "execution_count": null,
   "metadata": {},
   "outputs": [],
   "source": [
    "t1 = Sum(3,4)\n",
    "type(t1)"
   ]
  },
  {
   "cell_type": "code",
   "execution_count": null,
   "metadata": {},
   "outputs": [],
   "source": [
    "def celebrate_remnant(name1, name2): # name Parameter, used in the function \n",
    "    print(\":+:+:+:+:+:+:+:+:+:+:+:+:+:+:+:+:+:+:+:+\")\n",
    "    print(\"    Congratulation!! Remnant :\" + name1 + \" And \"+ name2)\n",
    "    print(\":+:+:+:+:+:+:+:+:+:+:+:+:+:+:+:+:+:+:+:+\")\n",
    "    print(\"\")"
   ]
  },
  {
   "cell_type": "code",
   "execution_count": null,
   "metadata": {},
   "outputs": [],
   "source": [
    "celebrate_remnant(\"Lee\",\"Kim\")"
   ]
  },
  {
   "cell_type": "code",
   "execution_count": null,
   "metadata": {},
   "outputs": [],
   "source": [
    "# Recursive function \n",
    "# Factorial 5! = 5*4*3*2*1, 0! = 1\n",
    "# Without Recursie Function\\\n",
    "\n",
    "def factorial1(num) :\n",
    "    count = num    \n",
    "    result = 1\n",
    "    while count > 1:\n",
    "        result = count* result \n",
    "        count = count -1\n",
    "    return result\n",
    "\n"
   ]
  },
  {
   "cell_type": "code",
   "execution_count": null,
   "metadata": {},
   "outputs": [],
   "source": [
    "print(factorial1(3))\n",
    "print(factorial1(6))"
   ]
  },
  {
   "cell_type": "code",
   "execution_count": null,
   "metadata": {},
   "outputs": [],
   "source": [
    "# Recursive Function \n",
    "def factorial_recursive(num:int)->int:\n",
    "    \n",
    "    '''\n",
    "    return factorial of num\n",
    "    The type of input is NOT checked. User's responsility to input an integer.\n",
    "    The sign of input is NOT checked. User's responsility to input a positive.\n",
    "    Recursion is used to calculate the result\n",
    "    \n",
    "    Example:\n",
    "    \n",
    "    >>> factorial_recursive1(0)\n",
    "    1\n",
    "    \n",
    "    >>> factorial_recursive1(4)\n",
    "    24\n",
    "    \n",
    "    >>> factorial_recursive1(4.5)\n",
    "    RecursionError: maximum recursion depth exceeded in comparison \n",
    "    \n",
    "    >>> factorial_recursive1(-3)\n",
    "    RecursionError: maximum recursion depth exceeded in comparison\n",
    "    \n",
    "    '''\n",
    "    \n",
    "    if num == 0:\n",
    "        return 1\n",
    "    else:\n",
    "        return num*factorial_recursive(num-1)\n",
    "        "
   ]
  },
  {
   "cell_type": "code",
   "execution_count": null,
   "metadata": {},
   "outputs": [],
   "source": [
    "type(factorial_recursive)"
   ]
  },
  {
   "cell_type": "code",
   "execution_count": null,
   "metadata": {},
   "outputs": [],
   "source": [
    "help(factorial_recursive)"
   ]
  },
  {
   "cell_type": "code",
   "execution_count": null,
   "metadata": {},
   "outputs": [],
   "source": [
    "print(factorial_recursive(6))  ## 6! = 6*5*4*3*2*1"
   ]
  },
  {
   "cell_type": "code",
   "execution_count": null,
   "metadata": {},
   "outputs": [],
   "source": [
    "print(factorial_recursive(-4.5))  ## 6! = 6*5*4*3*2*1"
   ]
  },
  {
   "cell_type": "code",
   "execution_count": null,
   "metadata": {},
   "outputs": [],
   "source": [
    "# Error Handling \n",
    "# not integer? Negative? \n",
    "\n",
    "def Factorial_Recursive1(num:int)->int:\n",
    "    \n",
    "    '''\n",
    "    return factorial of num\n",
    "    The type of input is checked. (should be integer)\n",
    "    The sign of input is also checked. (should be >=0)\n",
    "    Recursion is used to calculate the result\n",
    "    \n",
    "    Example:\n",
    "    >>> Factorial_Recursive1(0)\n",
    "    1\n",
    "    >>> Factorial_Recursive1(4)\n",
    "    24\n",
    "    >>> Factorial_Recursive1(-3)\n",
    "    None\n",
    "    >>> Factorial_Recursive1(4.5)\n",
    "    None\n",
    "    \n",
    "    '''\n",
    "    \n",
    "    \n",
    "    if not isinstance(num, int):\n",
    "        print(\"Factorial is only defined for positive integers : \" + str(num))\n",
    "        return None\n",
    "    elif num< 0 :\n",
    "        print(\"Factorial is not defined for negative integers : \" +str(num))\n",
    "    elif num == 0:\n",
    "        return 1\n",
    "    else:\n",
    "        return num*Factorial_Recursive1(num-1)\n",
    "    \n",
    "    "
   ]
  },
  {
   "cell_type": "code",
   "execution_count": null,
   "metadata": {},
   "outputs": [],
   "source": [
    "print(Factorial_Recursive1(-3))"
   ]
  },
  {
   "cell_type": "code",
   "execution_count": null,
   "metadata": {},
   "outputs": [],
   "source": [
    "print(Factorial_Recursive1(3.6))"
   ]
  },
  {
   "cell_type": "code",
   "execution_count": null,
   "metadata": {},
   "outputs": [],
   "source": [
    "print(Factorial_Recursive1(6))"
   ]
  },
  {
   "cell_type": "code",
   "execution_count": null,
   "metadata": {},
   "outputs": [],
   "source": [
    "help(Factorial_Recursive1)"
   ]
  },
  {
   "cell_type": "code",
   "execution_count": null,
   "metadata": {},
   "outputs": [],
   "source": [
    "def f(a):\n",
    "    print (a)\n",
    "    \n",
    "## overloading is not supported\n",
    "## only the latest function is in use\n",
    "\n",
    "def f(a,b):\n",
    "    print(a, b)"
   ]
  },
  {
   "cell_type": "code",
   "execution_count": null,
   "metadata": {},
   "outputs": [],
   "source": [
    "## the following code will cause an error of missing argument\n",
    "f(1)"
   ]
  },
  {
   "cell_type": "code",
   "execution_count": null,
   "metadata": {},
   "outputs": [],
   "source": [
    "## A way to fix this error is to use a default parameter\n",
    "\n",
    "def f(a,b = 0):\n",
    "    print(a, b)"
   ]
  },
  {
   "cell_type": "code",
   "execution_count": null,
   "metadata": {},
   "outputs": [],
   "source": [
    "## Now, this should work\n",
    "f(1)"
   ]
  }
 ],
 "metadata": {
  "kernelspec": {
   "display_name": "Python 3",
   "language": "python",
   "name": "python3"
  },
  "language_info": {
   "codemirror_mode": {
    "name": "ipython",
    "version": 3
   },
   "file_extension": ".py",
   "mimetype": "text/x-python",
   "name": "python",
   "nbconvert_exporter": "python",
   "pygments_lexer": "ipython3",
   "version": "3.7.5"
  }
 },
 "nbformat": 4,
 "nbformat_minor": 4
}
