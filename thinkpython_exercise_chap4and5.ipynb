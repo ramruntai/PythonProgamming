{
 "cells": [
  {
   "cell_type": "markdown",
   "metadata": {},
   "source": [
    "# Think Python 2 Review\n",
    "## Chapter 4 and 5"
   ]
  },
  {
   "cell_type": "code",
   "execution_count": 2,
   "metadata": {},
   "outputs": [],
   "source": [
    "from turtle import Turtle\n",
    "from math import pi"
   ]
  },
  {
   "cell_type": "code",
   "execution_count": 3,
   "metadata": {},
   "outputs": [],
   "source": [
    "## polygon\n",
    "\n",
    "def polygon(t, nside:int, length: float):\n",
    "    \n",
    "    ang = 360/nside\n",
    "    \n",
    "    for ik in range(nside):\n",
    "        t.fd(length)\n",
    "        t.lt(ang)\n",
    "    \n",
    "def circle(t, radius: float):\n",
    "    \n",
    "    nside = 50\n",
    "    ang = 360/nside\n",
    "    length = radius*math.pi*ang/180\n",
    "    \n",
    "    polygon(t, nside, length)\n",
    "    \n",
    "def circle(t, radius: float):\n",
    "    circumference = 2*math.pi*radius\n",
    "    \n",
    "    nside = int(circumference/3)+3\n",
    "    ang = 360/nside\n",
    "    length = circumference/nside\n",
    "    \n",
    "    polygon(t, nside, length)\n",
    "    \n",
    "def arc(t, radius:float, angle:float):\n",
    "    \n",
    "    nside = 100\n",
    "    ang = 360/nside\n",
    "    length = radius*math.pi*ang/180\n",
    "        \n",
    "    repeat = int(angle/ang)    \n",
    "        \n",
    "    for ik in range(repeat):\n",
    "        t.fd(length)\n",
    "        t.lt(ang)\n"
   ]
  },
  {
   "cell_type": "code",
   "execution_count": 5,
   "metadata": {},
   "outputs": [],
   "source": [
    "bob  = Turtle()"
   ]
  },
  {
   "cell_type": "code",
   "execution_count": 13,
   "metadata": {},
   "outputs": [],
   "source": [
    "polygon(bob, 4, 100)"
   ]
  },
  {
   "cell_type": "code",
   "execution_count": 14,
   "metadata": {},
   "outputs": [],
   "source": [
    "bob.clear()"
   ]
  },
  {
   "cell_type": "code",
   "execution_count": 11,
   "metadata": {},
   "outputs": [],
   "source": [
    "circle(bob, 60)"
   ]
  },
  {
   "cell_type": "code",
   "execution_count": 28,
   "metadata": {},
   "outputs": [],
   "source": [
    "### \n",
    "### turn_angle = 180 - (180*n-360)/n = 360/n"
   ]
  },
  {
   "cell_type": "code",
   "execution_count": 9,
   "metadata": {},
   "outputs": [],
   "source": [
    "arc(bob, 90, 180)"
   ]
  },
  {
   "cell_type": "code",
   "execution_count": 11,
   "metadata": {},
   "outputs": [],
   "source": [
    "for n in range(20):\n",
    "    arc(bob, 50+5*n, 180)"
   ]
  },
  {
   "cell_type": "code",
   "execution_count": 3,
   "metadata": {},
   "outputs": [],
   "source": [
    "import time"
   ]
  },
  {
   "cell_type": "code",
   "execution_count": 27,
   "metadata": {},
   "outputs": [
    {
     "data": {
      "text/plain": [
       "time.struct_time(tm_year=2020, tm_mon=8, tm_mday=23, tm_hour=1, tm_min=58, tm_sec=20, tm_wday=6, tm_yday=236, tm_isdst=0)"
      ]
     },
     "execution_count": 27,
     "metadata": {},
     "output_type": "execute_result"
    }
   ],
   "source": [
    "time.time()\n",
    "\n",
    "time.gmtime(seconds)"
   ]
  },
  {
   "cell_type": "code",
   "execution_count": 26,
   "metadata": {},
   "outputs": [],
   "source": [
    "time.time?"
   ]
  },
  {
   "cell_type": "code",
   "execution_count": 5,
   "metadata": {},
   "outputs": [],
   "source": [
    "min_in_second = 60\n",
    "hour_in_minute = 60\n",
    "hour_per_day = 24\n",
    "hour_in_second = hour_in_minute*min_in_second\n",
    "day_in_second = hour_per_day*hour_in_second\n",
    "days_per_year = 365\n",
    "days_per_leap_year = 364\n"
   ]
  },
  {
   "cell_type": "code",
   "execution_count": 31,
   "metadata": {},
   "outputs": [
    {
     "name": "stdout",
     "output_type": "stream",
     "text": [
      "[18497.0, 2.0, 6.0, 17.879966974258423]\n",
      "7577.879966974258\n",
      "7577.879966974258\n",
      "18497.0 2.0 6.0 17.879966974258423\n"
     ]
    },
    {
     "data": {
      "text/plain": [
       "time.struct_time(tm_year=2020, tm_mon=8, tm_mday=23, tm_hour=2, tm_min=6, tm_sec=17, tm_wday=6, tm_yday=236, tm_isdst=0)"
      ]
     },
     "execution_count": 31,
     "metadata": {},
     "output_type": "execute_result"
    }
   ],
   "source": [
    "seconds = time.time()\n",
    "\n",
    "sec = [day_in_second, hour_in_second, min_in_second]\n",
    "\n",
    "res = []\n",
    "rem = seconds\n",
    "for s in sec:\n",
    "    res.append(rem//s)\n",
    "    rem  = rem%s\n",
    "res.append(rem)\n",
    "print(res)\n",
    "\n",
    "\n",
    "days = seconds//day_in_second\n",
    "rem1  = seconds%day_in_second\n",
    "print(seconds - days*day_in_second)\n",
    "print(rem1)\n",
    "\n",
    "hour = rem1//hour_in_second\n",
    "rem2 = rem1%hour_in_second\n",
    "\n",
    "mint = rem2//min_in_second\n",
    "rem3  = rem2%min_in_second\n",
    "\n",
    "print('{} {} {} {}'.format(days, hour, mint, rem3))\n",
    "time.gmtime(seconds)"
   ]
  },
  {
   "cell_type": "code",
   "execution_count": 36,
   "metadata": {},
   "outputs": [],
   "source": [
    "def is_leap_year(year: int)->bool:\n",
    "    return year%4 ==0 "
   ]
  },
  {
   "cell_type": "code",
   "execution_count": 37,
   "metadata": {},
   "outputs": [
    {
     "data": {
      "text/plain": [
       "True"
      ]
     },
     "execution_count": 37,
     "metadata": {},
     "output_type": "execute_result"
    }
   ],
   "source": [
    "is_leap_year(2020)"
   ]
  },
  {
   "cell_type": "code",
   "execution_count": 44,
   "metadata": {},
   "outputs": [],
   "source": [
    "def how_many_leap_years(from_year:int, to_year:int)->int:\n",
    "    \n",
    "    '''\n",
    "    count the number of years\n",
    "\n",
    "    '''\n",
    "\n",
    "    if (to_year < from_year):\n",
    "        raise ValueError(\"from_year > to_year\")\n",
    "    \n",
    "    cnt  = 0\n",
    "    for y in range(from_year, to_year+1):\n",
    "        if is_leap_year(y):\n",
    "            cnt += 1\n",
    "        \n",
    "    return cnt\n",
    "\n"
   ]
  },
  {
   "cell_type": "code",
   "execution_count": 52,
   "metadata": {},
   "outputs": [],
   "source": [
    "def how_many_days(from_year:int, to_year:int)->int:\n",
    "    \n",
    "    days = 0\n",
    "    for y in range(from_year, to_year+1):\n",
    "        if is_leap_year(y):\n",
    "            days += days_per_leap_year\n",
    "        else:\n",
    "            days += days_per_year\n",
    "            \n",
    "    return days"
   ]
  },
  {
   "cell_type": "code",
   "execution_count": 53,
   "metadata": {},
   "outputs": [
    {
     "data": {
      "text/plain": [
       "1459"
      ]
     },
     "execution_count": 53,
     "metadata": {},
     "output_type": "execute_result"
    }
   ],
   "source": [
    "how_many_days(1970, 1973)"
   ]
  },
  {
   "cell_type": "code",
   "execution_count": 1,
   "metadata": {},
   "outputs": [],
   "source": [
    "def draw(t, length, n):\n",
    "\n",
    "    '''\n",
    "    input:\n",
    "    t         Turtle object\n",
    "    lenght    distance\n",
    "    n         integer, number \n",
    "    \n",
    "    '''\n",
    "    \n",
    "    if n == 0:\n",
    "        return\n",
    "    \n",
    "    angle = 50\n",
    "    t.fd(length*n)\n",
    "    t.lt(angle)\n",
    "    \n",
    "    draw(t, length, n-1)\n",
    "    \n",
    "    t.rt(2*angle)\n",
    "    \n",
    "    draw(t, length, n-1)\n",
    "    t.lt(angle)\n",
    "    t.bk(length*n)"
   ]
  },
  {
   "cell_type": "code",
   "execution_count": 3,
   "metadata": {},
   "outputs": [],
   "source": [
    "t = Turtle()"
   ]
  },
  {
   "cell_type": "code",
   "execution_count": 23,
   "metadata": {},
   "outputs": [],
   "source": [
    "t.clear()\n",
    "t.pos()\n",
    "t.goto(0,0)\n",
    "t.clear()\n",
    "t.home()"
   ]
  },
  {
   "cell_type": "code",
   "execution_count": 26,
   "metadata": {},
   "outputs": [],
   "source": [
    "t.clear()\n",
    "draw(t, 5, 6)"
   ]
  },
  {
   "cell_type": "code",
   "execution_count": 17,
   "metadata": {},
   "outputs": [],
   "source": [
    "def draw_koch(t, length):\n",
    "\n",
    "    if (length <3):\n",
    "        t.fd(length)\n",
    "        return\n",
    "    \n",
    "    draw_koch(t, length/3)\n",
    "    \n",
    "    t.lt(60)\n",
    "    \n",
    "    draw_koch(t, length/3)\n",
    "    \n",
    "    t.rt(120)\n",
    "    \n",
    "    draw_koch(t, length/3)\n",
    "    \n",
    "    t.lt(60)\n",
    "    \n",
    "    draw_koch(t, length/3)\n",
    "    \n"
   ]
  },
  {
   "cell_type": "code",
   "execution_count": 18,
   "metadata": {},
   "outputs": [],
   "source": [
    "from turtle import Turtle\n",
    "t = Turtle()"
   ]
  },
  {
   "cell_type": "code",
   "execution_count": 32,
   "metadata": {},
   "outputs": [],
   "source": [
    "t.clear()\n",
    "draw_koch(t, 100)"
   ]
  },
  {
   "cell_type": "code",
   "execution_count": null,
   "metadata": {},
   "outputs": [],
   "source": []
  }
 ],
 "metadata": {
  "kernelspec": {
   "display_name": "Python 3",
   "language": "python",
   "name": "python3"
  },
  "language_info": {
   "codemirror_mode": {
    "name": "ipython",
    "version": 3
   },
   "file_extension": ".py",
   "mimetype": "text/x-python",
   "name": "python",
   "nbconvert_exporter": "python",
   "pygments_lexer": "ipython3",
   "version": "3.7.3"
  }
 },
 "nbformat": 4,
 "nbformat_minor": 2
}
