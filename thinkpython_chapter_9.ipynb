{
 "cells": [
  {
   "cell_type": "markdown",
   "metadata": {},
   "source": [
    "## Chapter 9\n",
    "Case Study: Word play\n",
    "\n",
    "Case Study\n",
    "* Reading word lists\n",
    "* Exercises\n",
    "* Search\n",
    "* Looping with indices"
   ]
  },
  {
   "cell_type": "markdown",
   "metadata": {},
   "source": [
    "### 9.1 Reading word lists"
   ]
  },
  {
   "cell_type": "code",
   "execution_count": 34,
   "metadata": {},
   "outputs": [],
   "source": [
    "#The built-in function open takes the name of the file as a parameter and returns a file object you can use to read the file.\n",
    "'''\n",
    "open() have two parameter. text and mode. If mode was not specified then it is defaulted to r which means read \n",
    "'r' Open a file for reading. (default)\n",
    "'w' Open a file for writing. Creates a new file if it does not exist or truncates the file if it exists.\n",
    "'x' Open a file for exclusive creation. If the file already exists, the operation fails.\n",
    "'a' Open for appending at the end of the file without truncating it. Creates a new file if it does not exist.\n",
    "'t' Open in text mode. (default)\n",
    "'b' Open in binary mode.\n",
    "'+' Open a file for updating (reading and writing)\n",
    "'''\n",
    "\n",
    "fin = open('word.txt')\n",
    "\n"
   ]
  },
  {
   "cell_type": "code",
   "execution_count": 35,
   "metadata": {},
   "outputs": [
    {
     "data": {
      "text/plain": [
       "<_io.TextIOWrapper name='word.txt' mode='r' encoding='cp1252'>"
      ]
     },
     "execution_count": 35,
     "metadata": {},
     "output_type": "execute_result"
    }
   ],
   "source": [
    "fin"
   ]
  },
  {
   "cell_type": "code",
   "execution_count": 36,
   "metadata": {},
   "outputs": [
    {
     "data": {
      "text/plain": [
       "'aa\\n'"
      ]
     },
     "execution_count": 36,
     "metadata": {},
     "output_type": "execute_result"
    }
   ],
   "source": [
    "#Start reading the first line of the text file. \n",
    "fin.readline()"
   ]
  },
  {
   "cell_type": "code",
   "execution_count": 37,
   "metadata": {},
   "outputs": [
    {
     "data": {
      "text/plain": [
       "'aah\\n'"
      ]
     },
     "execution_count": 37,
     "metadata": {},
     "output_type": "execute_result"
    }
   ],
   "source": [
    "#The Object remembers the last place where it left off from reading. So the next line will read when executing the same code.\n",
    "fin.readline()"
   ]
  },
  {
   "cell_type": "code",
   "execution_count": 38,
   "metadata": {},
   "outputs": [
    {
     "data": {
      "text/plain": [
       "'aahed'"
      ]
     },
     "execution_count": 38,
     "metadata": {},
     "output_type": "execute_result"
    }
   ],
   "source": [
    "#my defult readline() will read the the nextline character \\n which indicatesindicates the end of line\n",
    "#strip(): returns a new string after removing any leading and trailing whitespaces including tabs (\\t).\n",
    "#rstrip(): returns a new string with trailing whitespace removed. It’s easier to remember as removing white spaces from “right” side of the string.\n",
    "#lstrip(): returns a new string with leading whitespace removed, or removing whitespaces from the “left” side of the string.\n",
    "\n",
    "#to remove '\\n' use strip() to clear the '\\n' in the return\n",
    "line = fin.readline()\n",
    "word = line.strip()\n",
    "word"
   ]
  },
  {
   "cell_type": "code",
   "execution_count": 40,
   "metadata": {},
   "outputs": [],
   "source": [
    "praise = open('rutc_answer.txt')"
   ]
  },
  {
   "cell_type": "code",
   "execution_count": 41,
   "metadata": {},
   "outputs": [
    {
     "data": {
      "text/plain": [
       "<_io.TextIOWrapper name='rutc_answer.txt' mode='r' encoding='cp1252'>"
      ]
     },
     "execution_count": 41,
     "metadata": {},
     "output_type": "execute_result"
    }
   ],
   "source": [
    "praise"
   ]
  },
  {
   "cell_type": "code",
   "execution_count": 42,
   "metadata": {},
   "outputs": [
    {
     "name": "stdout",
     "output_type": "stream",
     "text": [
      "-Verse1\n",
      "\n",
      "There is something in me that steals my joy and my peace\n",
      "\n",
      "Itâ€™s the feeling Iâ€™m lonely and weak\n",
      "\n",
      "There is something in me that steals that steals the answers from me\n",
      "\n",
      "Itâ€™s the conflicts with people that I meet\n",
      "\n",
      "Thereâ€™s something in me that steals the blessing from me\n",
      "\n",
      "Itâ€™s the way I see people at my church\n",
      "\n",
      "But now I really want to find This Gospel light\n",
      "\n",
      "\n",
      "\n",
      "-Chorus\n",
      "\n",
      "Everythingâ€™s my Covenant answer \n",
      "\n",
      "Every work a part of my vision\n",
      "\n",
      "In the place where you put me, that is my Dream\n",
      "\n",
      "Every person, answer of Practice\n",
      "\n",
      "And the future will show Godâ€™s masterpiece\n",
      "\n",
      "All of this is every Remnantâ€™s CVDIP\n",
      "\n",
      "\n",
      "\n",
      "-Verse2\n",
      "\n",
      "There is someone in me who gives me joy and true peace\n",
      "\n",
      "Heâ€™s the One who always with me\n",
      "\n",
      "There is someone in me who gives true answers to me\n",
      "\n",
      "Heâ€™s Immanuel, God with you and me\n",
      "\n",
      "Thereâ€™s someone in me who gives true blessings to me\n",
      "\n",
      "Heâ€™s the One who makes Oneness at my church\n",
      "\n",
      "From now I really want to know this Gospel joy\n",
      "\n",
      "\n",
      "\n",
      "-Chorus\n",
      "\n",
      "Everythingâ€™s my Covenant answer \n",
      "\n",
      "Every work a part of my vision\n",
      "\n",
      "In the place where you put me, that is my Dream\n",
      "\n",
      "Every person, answer of Practice\n",
      "\n",
      "And the future will show Godâ€™s masterpiece\n",
      "\n",
      "All of this is every Remnant's CVDIP\n",
      "\n",
      "\n",
      "\n",
      "-Bridge\n",
      "\n",
      "Calvary, the Mount of Olives, Markâ€™s Upper Room\n",
      "\n",
      "Heavâ€™nly mandate, Calling and Mission\n",
      "\n",
      "Rightful, Needed, Absolute\n",
      "\n",
      "One Heart, Whole Heart, and Continuation\n",
      "\n",
      "Only, Uniqueness, Re-creation\n",
      "\n",
      "Twenty-Four and Twenty-Five, Eternity in Christ\n",
      "\n",
      "\n",
      "\n",
      "-Chorus\n",
      "\n",
      "Everythingâ€™s my Covenant answer \n",
      "\n",
      "Every work a part of my vision\n",
      "\n",
      "In the place where you put me, that is my Dream\n",
      "\n",
      "Every person, answer of Practice\n",
      "\n",
      "And the future will show Godâ€™s masterpiece\n",
      "\n",
      "All of this is every Remnantâ€™s CVDIP \n",
      "\n",
      "\n",
      "\n",
      "-Outro\n",
      "\n",
      "Answers\n",
      "\n",
      "\n",
      "\n"
     ]
    }
   ],
   "source": [
    "for line in praise:\n",
    "    print(line)"
   ]
  },
  {
   "cell_type": "code",
   "execution_count": 1,
   "metadata": {
    "scrolled": true
   },
   "outputs": [
    {
     "name": "stdout",
     "output_type": "stream",
     "text": [
      "-Verse1\n",
      "\n",
      "There is something in me that steals my joy and my peace\n",
      "\n",
      "It’s the feeling I’m lonely and weak\n",
      "\n",
      "There is something in me that steals that steals the answers from me\n",
      "\n",
      "It’s the conflicts with people that I meet\n",
      "\n",
      "There’s something in me that steals the blessing from me\n",
      "\n",
      "It’s the way I see people at my church\n",
      "\n",
      "But now I really want to find This Gospel light\n",
      "\n",
      "\n",
      "\n",
      "-Chorus\n",
      "\n",
      "Everything’s my Covenant answer \n",
      "\n",
      "Every work a part of my vision\n",
      "\n",
      "In the place where you put me, that is my Dream\n",
      "\n",
      "Every person, answer of Practice\n",
      "\n",
      "And the future will show God’s masterpiece\n",
      "\n",
      "All of this is every Remnant’s CVDIP\n",
      "\n",
      "\n",
      "\n",
      "-Verse2\n",
      "\n",
      "There is someone in me who gives me joy and true peace\n",
      "\n",
      "He’s the One who always with me\n",
      "\n",
      "There is someone in me who gives true answers to me\n",
      "\n",
      "He’s Immanuel, God with you and me\n",
      "\n",
      "There’s someone in me who gives true blessings to me\n",
      "\n",
      "He’s the One who makes Oneness at my church\n",
      "\n",
      "From now I really want to know this Gospel joy\n",
      "\n",
      "\n",
      "\n",
      "-Chorus\n",
      "\n",
      "Everything’s my Covenant answer \n",
      "\n",
      "Every work a part of my vision\n",
      "\n",
      "In the place where you put me, that is my Dream\n",
      "\n",
      "Every person, answer of Practice\n",
      "\n",
      "And the future will show God’s masterpiece\n",
      "\n",
      "All of this is every Remnant's CVDIP\n",
      "\n",
      "\n",
      "\n",
      "-Bridge\n",
      "\n",
      "Calvary, the Mount of Olives, Mark’s Upper Room\n",
      "\n",
      "Heav’nly mandate, Calling and Mission\n",
      "\n",
      "Rightful, Needed, Absolute\n",
      "\n",
      "One Heart, Whole Heart, and Continuation\n",
      "\n",
      "Only, Uniqueness, Re-creation\n",
      "\n",
      "Twenty-Four and Twenty-Five, Eternity in Christ\n",
      "\n",
      "\n",
      "\n",
      "-Chorus\n",
      "\n",
      "Everything’s my Covenant answer \n",
      "\n",
      "Every work a part of my vision\n",
      "\n",
      "In the place where you put me, that is my Dream\n",
      "\n",
      "Every person, answer of Practice\n",
      "\n",
      "And the future will show God’s masterpiece\n",
      "\n",
      "All of this is every Remnant’s CVDIP \n",
      "\n",
      "\n",
      "\n",
      "-Outro\n",
      "\n",
      "Answers\n",
      "\n",
      "\n",
      "\n"
     ]
    }
   ],
   "source": [
    "#Python's default encoding is ASCII. You can encoding by passing the encoding parameter to unicode standard 'utf-8'\n",
    "\n",
    "praise = open('rutc_answer.txt',encoding = 'utf-8')\n",
    "for line in praise:\n",
    "    print(line)"
   ]
  },
  {
   "cell_type": "markdown",
   "metadata": {},
   "source": [
    "### 9.2 Exercise"
   ]
  },
  {
   "cell_type": "code",
   "execution_count": 2,
   "metadata": {},
   "outputs": [
    {
     "name": "stdout",
     "output_type": "stream",
     "text": [
      "yes\n"
     ]
    }
   ],
   "source": [
    "w = 'hello'\n",
    "if 'o' in w:\n",
    "    print('yes')\n",
    "else:\n",
    "    print('no')"
   ]
  },
  {
   "cell_type": "code",
   "execution_count": 3,
   "metadata": {},
   "outputs": [],
   "source": [
    "# Exercise 9.1 - Write a program that reads words.txt and prints only the words with more than 20 characters (not counting whitespace).\n",
    "def word_more_then_20():\n",
    "    fin = open(\"word.txt\")\n",
    "    for line in fin:\n",
    "        word = line.strip()\n",
    "        if len(word) >= 20:\n",
    "            print(word)\n",
    "    fin.close()"
   ]
  },
  {
   "cell_type": "code",
   "execution_count": 4,
   "metadata": {},
   "outputs": [],
   "source": [
    "#Exercise 9.2 - Write a function called has_no_e that returns True if the given word doesn’t have the letter “e” in it.\n",
    "def has_no_e_1():\n",
    "    letter = 'e'\n",
    "    fin = open(\"word.txt\")\n",
    "    for words in fin:\n",
    "        for charc in words:\n",
    "            if charc == letter:\n",
    "                return False\n",
    "    return True\n",
    "\n",
    "def has_no_e_2():\n",
    "    letter = 'e'\n",
    "    fin = open(\"word.txt\")\n",
    "    for words in fin:\n",
    "        if letter in words:\n",
    "            return False\n",
    "    return True\n",
    "\n",
    "def has_no_e_3():\n",
    "    letter = 'e'\n",
    "    fin = open(\"word.txt\")\n",
    "    for words in fin:\n",
    "        if words.find(letter) == -1:    #if letter not in words then return False\n",
    "            return True\n",
    "    return False\n",
    "\n",
    "\n",
    "\n",
    "def has_no_e_percent():\n",
    "    total_num_of_words, num_of_words_no_e = 0,0\n",
    "    letter = 'e'\n",
    "    fin = open(\"word.txt\")\n",
    "    for words in fin:\n",
    "        total_num_of_words += 1\n",
    "        if letter not in words:\n",
    "            num_of_words_no_e += 1\n",
    "            print(word)\n",
    "    \n",
    "    percent_of_words_no_e = (num_of_words_no_e / total_num_of_words)*100\n",
    "    print('The percent of words with no e is,', percent_of_words_no_e)"
   ]
  },
  {
   "cell_type": "code",
   "execution_count": 5,
   "metadata": {},
   "outputs": [],
   "source": [
    "#Exercise 9.3 - Write a function named avoids that takes a word and a string of forbidden letters, \n",
    "#and that returns True if the word doesn’t use any of the forbidden letters.\n",
    "def avoids(word, forbidden):\n",
    "    for letter in forbidden:\n",
    "        if letter in word:\n",
    "            return False\n",
    "    return True\n",
    "\n",
    "#Write a program that prompts the user to enter a string of forbidden letters and then prints the\n",
    "#number of words that don’t contain any of them. Can you find a combination of 5 forbidden letters\n",
    "#that excludes the smallest number of words?\n",
    "\n",
    "def avoids_forbidden():\n",
    "    forbidden_letter = input(\"Enter a string of forbidden letters!\")\n",
    "    fin = open(\"words.txt\")\n",
    "    count_words_without_forbid = 0\n",
    "    for line in fin:\n",
    "        words = line.strip()\n",
    "        if forbidden_letter not in words:\n",
    "            count_words_without_forbid += 1\n",
    "    print(count_words_without_forbid)"
   ]
  },
  {
   "cell_type": "code",
   "execution_count": null,
   "metadata": {},
   "outputs": [],
   "source": []
  },
  {
   "cell_type": "markdown",
   "metadata": {},
   "source": [
    "### 9.3 Search\n",
    "Going over with Book"
   ]
  },
  {
   "cell_type": "code",
   "execution_count": 50,
   "metadata": {},
   "outputs": [],
   "source": [
    "def has_no_e(word):\n",
    "    for letter in word:\n",
    "        if letter == 'e':\n",
    "            return False\n",
    "    return True"
   ]
  },
  {
   "cell_type": "code",
   "execution_count": 51,
   "metadata": {},
   "outputs": [
    {
     "data": {
      "text/plain": [
       "False"
      ]
     },
     "execution_count": 51,
     "metadata": {},
     "output_type": "execute_result"
    }
   ],
   "source": [
    "has_no_e('hello')"
   ]
  },
  {
   "cell_type": "code",
   "execution_count": 53,
   "metadata": {},
   "outputs": [],
   "source": [
    "def avoids(word, forbidden):\n",
    "    for letter in word:\n",
    "        if letter in forbidden:\n",
    "            return False\n",
    "    return True"
   ]
  },
  {
   "cell_type": "code",
   "execution_count": 55,
   "metadata": {},
   "outputs": [
    {
     "data": {
      "text/plain": [
       "True"
      ]
     },
     "execution_count": 55,
     "metadata": {},
     "output_type": "execute_result"
    }
   ],
   "source": [
    "avoids('Remnant','Trp')"
   ]
  },
  {
   "cell_type": "code",
   "execution_count": 56,
   "metadata": {},
   "outputs": [],
   "source": [
    "def uses_only(word, available):\n",
    "    for letter in word:\n",
    "        if letter not in available:\n",
    "            return False\n",
    "    return True\n",
    "#ision       Vision"
   ]
  },
  {
   "cell_type": "code",
   "execution_count": 57,
   "metadata": {},
   "outputs": [
    {
     "data": {
      "text/plain": [
       "True"
      ]
     },
     "execution_count": 57,
     "metadata": {},
     "output_type": "execute_result"
    }
   ],
   "source": [
    "uses_only('ision', 'Vision')`"
   ]
  },
  {
   "cell_type": "code",
   "execution_count": 58,
   "metadata": {},
   "outputs": [
    {
     "data": {
      "text/plain": [
       "False"
      ]
     },
     "execution_count": 58,
     "metadata": {},
     "output_type": "execute_result"
    }
   ],
   "source": [
    "uses_only('Vision','ision')"
   ]
  },
  {
   "cell_type": "code",
   "execution_count": 59,
   "metadata": {},
   "outputs": [
    {
     "data": {
      "text/plain": [
       "False"
      ]
     },
     "execution_count": 59,
     "metadata": {},
     "output_type": "execute_result"
    }
   ],
   "source": [
    "uses_only('Mission','Vision')"
   ]
  },
  {
   "cell_type": "code",
   "execution_count": 60,
   "metadata": {},
   "outputs": [],
   "source": [
    "def uses_all(word, required):\n",
    "    for letter in required:\n",
    "        if letter not in word:\n",
    "            return False\n",
    "    return True\n",
    "#'ision', 'Vision'"
   ]
  },
  {
   "cell_type": "code",
   "execution_count": 62,
   "metadata": {},
   "outputs": [
    {
     "data": {
      "text/plain": [
       "False"
      ]
     },
     "execution_count": 62,
     "metadata": {},
     "output_type": "execute_result"
    }
   ],
   "source": [
    "uses_all('ision', 'Vision')`"
   ]
  },
  {
   "cell_type": "code",
   "execution_count": 63,
   "metadata": {},
   "outputs": [
    {
     "data": {
      "text/plain": [
       "True"
      ]
     },
     "execution_count": 63,
     "metadata": {},
     "output_type": "execute_result"
    }
   ],
   "source": [
    "uses_all('Vision','ision')"
   ]
  },
  {
   "cell_type": "code",
   "execution_count": 64,
   "metadata": {},
   "outputs": [
    {
     "data": {
      "text/plain": [
       "False"
      ]
     },
     "execution_count": 64,
     "metadata": {},
     "output_type": "execute_result"
    }
   ],
   "source": [
    "uses_all('Mission','Vision')"
   ]
  },
  {
   "cell_type": "code",
   "execution_count": null,
   "metadata": {},
   "outputs": [],
   "source": [
    "def uses_all(word, required):\n",
    "    return uses_only(required, word)"
   ]
  },
  {
   "cell_type": "markdown",
   "metadata": {},
   "source": [
    "### 9.4 Looping with Indices"
   ]
  },
  {
   "cell_type": "code",
   "execution_count": null,
   "metadata": {},
   "outputs": [],
   "source": [
    "#abcdefg"
   ]
  },
  {
   "cell_type": "code",
   "execution_count": 65,
   "metadata": {},
   "outputs": [
    {
     "data": {
      "text/plain": [
       "'\\np = L\\nchar = M\\n'"
      ]
     },
     "execution_count": 65,
     "metadata": {},
     "output_type": "execute_result"
    }
   ],
   "source": [
    "def is_abecedarian(word):\n",
    "    previous = word[0]\n",
    "    for char in word:\n",
    "        if char < previous:\n",
    "            return False\n",
    "        previous = char\n",
    "    return True\n",
    "\n",
    "#ALMOST\n",
    "'''\n",
    "p = M\n",
    "char = A\n",
    "'''"
   ]
  },
  {
   "cell_type": "code",
   "execution_count": 67,
   "metadata": {},
   "outputs": [
    {
     "data": {
      "text/plain": [
       "False"
      ]
     },
     "execution_count": 67,
     "metadata": {},
     "output_type": "execute_result"
    }
   ],
   "source": [
    "is_abecedarian('ALMOST')"
   ]
  },
  {
   "cell_type": "code",
   "execution_count": 68,
   "metadata": {},
   "outputs": [],
   "source": [
    "#An alternative is to use recursion:\n",
    "def is_abecedarian(word):\n",
    "    if len(word) <= 1:\n",
    "        return True\n",
    "    if word[0] > word[1]:\n",
    "        return False\n",
    "    return is_abecedarian(word[1:])\n",
    "#LMOST\n",
    "#01234\n",
    "    \n",
    "#MOST\n",
    "#OST\n",
    "#ST\n",
    "#T"
   ]
  },
  {
   "cell_type": "code",
   "execution_count": 71,
   "metadata": {},
   "outputs": [
    {
     "data": {
      "text/plain": [
       "True"
      ]
     },
     "execution_count": 71,
     "metadata": {},
     "output_type": "execute_result"
    }
   ],
   "source": [
    "is_abecedarian('ALMOST')"
   ]
  },
  {
   "cell_type": "code",
   "execution_count": 7,
   "metadata": {},
   "outputs": [
    {
     "data": {
      "text/plain": [
       "'\\nind = 5\\n'"
      ]
     },
     "execution_count": 7,
     "metadata": {},
     "output_type": "execute_result"
    }
   ],
   "source": [
    "#Another option is to use a while loop:\n",
    "#ALMOST  =6\n",
    "#012345\n",
    "def is_abecedarian(word):\n",
    "    ind = 0\n",
    "    while ind < len(word)-1:\n",
    "        if word[ind+1] < word[ind]:\n",
    "            #    M          L\n",
    "            return False\n",
    "        ind += 1\n",
    "    return True\n",
    "\n",
    "'''\n",
    "ind = 5\n",
    "'''"
   ]
  },
  {
   "cell_type": "code",
   "execution_count": 10,
   "metadata": {},
   "outputs": [
    {
     "data": {
      "text/plain": [
       "True"
      ]
     },
     "execution_count": 10,
     "metadata": {},
     "output_type": "execute_result"
    }
   ],
   "source": [
    "is_abecedarian('ALMOST')"
   ]
  },
  {
   "cell_type": "code",
   "execution_count": 11,
   "metadata": {},
   "outputs": [
    {
     "data": {
      "text/plain": [
       "False"
      ]
     },
     "execution_count": 11,
     "metadata": {},
     "output_type": "execute_result"
    }
   ],
   "source": [
    "is_abecedarian('ALMaOST')"
   ]
  },
  {
   "cell_type": "markdown",
   "metadata": {},
   "source": [
    "#hannah\n",
    "   ji\n",
    " 012345 \n",
    "i ->  <-  j"
   ]
  },
  {
   "cell_type": "code",
   "execution_count": 12,
   "metadata": {},
   "outputs": [],
   "source": [
    "def is_palindrome(word):\n",
    "    i = 0\n",
    "    j = len(word)-1\n",
    "    while i<j:  \n",
    "        if word[i] != word[j]:\n",
    "            return False\n",
    "        i = i+1\n",
    "        j = j-1\n",
    "    return True"
   ]
  },
  {
   "cell_type": "code",
   "execution_count": 13,
   "metadata": {},
   "outputs": [],
   "source": [
    "#hanna hannah"
   ]
  },
  {
   "cell_type": "code",
   "execution_count": 14,
   "metadata": {},
   "outputs": [],
   "source": [
    "#notice the is_palindrome function is very similar to is_reverse\n",
    "def is_reverse(word1, word2):\n",
    "    if len(word1) != len(word2):\n",
    "        return False\n",
    "    i = 0\n",
    "    j = len(word2)-1\n",
    "    while j >= 0:\n",
    "        if word1[i] != word2[j]:\n",
    "            return False\n",
    "        i = i+1\n",
    "        j = j-1\n",
    "    return True"
   ]
  },
  {
   "cell_type": "code",
   "execution_count": 15,
   "metadata": {},
   "outputs": [],
   "source": [
    "#understand that they are the same logic\n",
    "def is_palindrome1(word):\n",
    "    return is_reverse(word, word)"
   ]
  },
  {
   "cell_type": "code",
   "execution_count": 16,
   "metadata": {},
   "outputs": [
    {
     "data": {
      "text/plain": [
       "True"
      ]
     },
     "execution_count": 16,
     "metadata": {},
     "output_type": "execute_result"
    }
   ],
   "source": [
    "is_palindrome1('hannah')"
   ]
  },
  {
   "cell_type": "code",
   "execution_count": 17,
   "metadata": {},
   "outputs": [],
   "source": [
    "word = 'hannah'"
   ]
  },
  {
   "cell_type": "code",
   "execution_count": 18,
   "metadata": {},
   "outputs": [],
   "source": [
    "#Using the negative stride we can initialize a new variable that reverse the word by using string slicing \n",
    "newword = word[::-1]"
   ]
  },
  {
   "cell_type": "code",
   "execution_count": 19,
   "metadata": {},
   "outputs": [
    {
     "data": {
      "text/plain": [
       "'hannah'"
      ]
     },
     "execution_count": 19,
     "metadata": {},
     "output_type": "execute_result"
    }
   ],
   "source": [
    "newword"
   ]
  },
  {
   "cell_type": "code",
   "execution_count": 87,
   "metadata": {},
   "outputs": [
    {
     "data": {
      "text/plain": [
       "True"
      ]
     },
     "execution_count": 87,
     "metadata": {},
     "output_type": "execute_result"
    }
   ],
   "source": [
    "word == word[::-1]"
   ]
  },
  {
   "cell_type": "code",
   "execution_count": null,
   "metadata": {},
   "outputs": [],
   "source": []
  }
 ],
 "metadata": {
  "kernelspec": {
   "display_name": "Python 3",
   "language": "python",
   "name": "python3"
  },
  "language_info": {
   "codemirror_mode": {
    "name": "ipython",
    "version": 3
   },
   "file_extension": ".py",
   "mimetype": "text/x-python",
   "name": "python",
   "nbconvert_exporter": "python",
   "pygments_lexer": "ipython3",
   "version": "3.8.3"
  }
 },
 "nbformat": 4,
 "nbformat_minor": 4
}
