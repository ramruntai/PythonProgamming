{
 "cells": [
  {
   "cell_type": "markdown",
   "metadata": {},
   "source": [
    "# Chapter 17 Classes and methods"
   ]
  },
  {
   "cell_type": "markdown",
   "metadata": {},
   "source": [
    "### Definitions\n",
    "- class: A programmer-defined type. A class definition creates a new class object.\n",
    "- class object: An object that contains information about a programmer-defined type. The\n",
    "- class object can be used to create instances of the type.\n",
    "- instance: An object that belongs to a class.\n",
    "- instantiate: To create a new object.\n",
    "- attribute: One of the named values associated with an object."
   ]
  },
  {
   "cell_type": "markdown",
   "metadata": {},
   "source": [
    "### Chap 15, 16"
   ]
  },
  {
   "cell_type": "code",
   "execution_count": null,
   "metadata": {},
   "outputs": [],
   "source": [
    "class Time:\n",
    "    \"\"\"Represents the time of day\n",
    "    attributes: hour, minute, second\n",
    "    \"\"\"\n",
    "    \n",
    "t1 = Time()"
   ]
  },
  {
   "cell_type": "code",
   "execution_count": null,
   "metadata": {},
   "outputs": [],
   "source": [
    "t1.hour = 1\n",
    "t1.min = 2\n",
    "t1.sec = 3"
   ]
  },
  {
   "cell_type": "code",
   "execution_count": null,
   "metadata": {},
   "outputs": [],
   "source": [
    "print('{}:{}:{}'.format(t1.hour, t1.min, t1.sec))"
   ]
  },
  {
   "cell_type": "code",
   "execution_count": null,
   "metadata": {},
   "outputs": [],
   "source": [
    "t2 = Time()\n",
    "t2.hour = 4\n",
    "t2.min = 5\n",
    "t2.sec = 6"
   ]
  },
  {
   "cell_type": "markdown",
   "metadata": {},
   "source": [
    "## methods vs functions\n",
    "- Boths look similar\n",
    "\n",
    "- Methods are defined inside classes\n",
    "- actions are associated (predetermined) with datatype or type of objects\n",
    "- The way (syntac) to call is different\n",
    "\n",
    "- function:  lower_case(mystring)\n",
    "- method: mystring.lower()\n",
    "\n",
    "- grill(my_brisket), grill(my_pork), grill(my_tbonesteak), ...\n",
    "- mypork.grill(), mypork.broil(), mypork.texasbbq(), ...\n",
    "- my_tbonesteak.grill(\"WELL_DONE\"), my_steak.grill(\"RARE\"),...\n"
   ]
  },
  {
   "cell_type": "markdown",
   "metadata": {},
   "source": [
    "## Bring funtion into class"
   ]
  },
  {
   "cell_type": "code",
   "execution_count": null,
   "metadata": {},
   "outputs": [],
   "source": [
    "# old fashioned way\n",
    "\n",
    "# function\n",
    "def print_time_function(time):\n",
    "    print('{}:{}:{}'.format(time.hour, time.min, time.sec))\n",
    "\n",
    "class Time_old:\n",
    "    \"\"\"\n",
    "    old fashioned Time class\n",
    "    \"\"\"\n",
    "    \n",
    "    # method\n",
    "    def print_time(time):\n",
    "        print('not common, do not use')\n",
    "        print('{}:{}:{}'.format(time.hour, time.min, time.sec))\n",
    "    \n",
    "    # method        \n",
    "    def print_time_common(self):\n",
    "        print('oop way')\n",
    "        print('{}:{}:{}'.format(self.hour, self.min, self.sec)) \n",
    "        \n",
    "        \n",
    "        "
   ]
  },
  {
   "cell_type": "code",
   "execution_count": null,
   "metadata": {},
   "outputs": [],
   "source": [
    "# Old fashioned function\n",
    "t = Time_old()\n",
    "t.hour = 5\n",
    "t.min = 30\n",
    "t.sec = 45\n",
    "print_time_function(t)\n",
    "\n",
    "# method invocation \n",
    "# not so common\n",
    "# never do this\n",
    "Time_old.print_time(t)\n",
    "\n",
    "# method invocation\n",
    "t.print_time_common()\n"
   ]
  },
  {
   "cell_type": "code",
   "execution_count": null,
   "metadata": {},
   "outputs": [],
   "source": [
    "# Your turn to play\n",
    "\n",
    "# make an object of your time to eat breakfast\n",
    "# then print using two different methods\n",
    "\n"
   ]
  },
  {
   "cell_type": "code",
   "execution_count": null,
   "metadata": {},
   "outputs": [],
   "source": [
    "# Your turn to play\n",
    "# make this function to a method\n",
    "\n",
    "def time_to_int(time):\n",
    "    minutes = time.hour * 60 + time.min\n",
    "    seconds = min * 60 + time.sec\n",
    "    return seconds"
   ]
  },
  {
   "cell_type": "markdown",
   "metadata": {},
   "source": [
    "## Initialization using __init__ method"
   ]
  },
  {
   "cell_type": "code",
   "execution_count": null,
   "metadata": {},
   "outputs": [],
   "source": [
    "class Time:\n",
    "    def __init__(self, hour, minute, second):\n",
    "        self.hour = hour\n",
    "        self.min = minute\n",
    "        self.sec = second\n",
    "      \n",
    "    def print_time_common(self):\n",
    "          print('{}:{}:{}'.format(self.hour, self.min, self.sec))     \n",
    "    "
   ]
  },
  {
   "cell_type": "code",
   "execution_count": null,
   "metadata": {},
   "outputs": [],
   "source": [
    "start_time = Time(12, 30, 0)\n",
    "start_time.print_time_common()"
   ]
  },
  {
   "cell_type": "code",
   "execution_count": null,
   "metadata": {},
   "outputs": [],
   "source": [
    "## your turn to play\n",
    "## Invoke both methods to print time in Time class\n"
   ]
  },
  {
   "cell_type": "code",
   "execution_count": null,
   "metadata": {},
   "outputs": [],
   "source": [
    "## Meditative study question\n",
    "\n",
    "# I would like to do\n",
    "\n",
    "# p1 = Point(5, 4)\n",
    "# p2 = Point(2, 5)\n",
    "\n",
    "# p1 + p2 \n",
    "# p1 - p2 \n",
    "# 3*p1 + 4*p2"
   ]
  },
  {
   "cell_type": "code",
   "execution_count": null,
   "metadata": {},
   "outputs": [],
   "source": [
    "class Point:\n",
    "    \n",
    "    \"\"\" \n",
    "    \n",
    "    Point class with x and y attributes\n",
    "    \n",
    "    \"\"\"\n",
    "    \n",
    "    def __init__(self, x = 0, y = 0):\n",
    "        self.x = x\n",
    "        self.y = y\n",
    "    \n",
    "    def __add__(self, other):\n",
    "        if isinstance(other, Point):\n",
    "            return Point(self.x + other.x, self.y + other.y)\n",
    "        if isinstance(other, tuple):\n",
    "            return Point(self.x + other[0], self.y + other[1])\n",
    "        if isinstance(other, int) or isinstance(other, float):\n",
    "            return Point(self.x + other, self.y + other)\n",
    "    \n",
    "    def __radd__(self, other):\n",
    "        return self.__add__(other)\n",
    "\n",
    "    def __sub__(self, other):\n",
    "        return self.__add__(-1.*other)\n",
    "    \n",
    "    def __rsub__(self, other):\n",
    "        return -1.*self.__sub__(other)\n",
    "    \n",
    "    def __mul__(self, val):\n",
    "        return Point(self.x*val, self.y*val)\n",
    "    \n",
    "    def __rmul__(self, val):\n",
    "        return Point(self.x*val, self.y*val)  \n",
    "    \n",
    "    def __str__(self):\n",
    "        return \"x = {} y = {}\".format(self.x, self.y)"
   ]
  },
  {
   "cell_type": "code",
   "execution_count": null,
   "metadata": {},
   "outputs": [],
   "source": [
    "p1 = Point(5, 4)"
   ]
  },
  {
   "cell_type": "code",
   "execution_count": null,
   "metadata": {},
   "outputs": [],
   "source": [
    "p2 = Point(1, 1)"
   ]
  },
  {
   "cell_type": "code",
   "execution_count": null,
   "metadata": {},
   "outputs": [],
   "source": [
    "p3 = p1 + p2\n",
    "print(p3)"
   ]
  },
  {
   "cell_type": "code",
   "execution_count": null,
   "metadata": {},
   "outputs": [],
   "source": [
    "p4_sub = p1 - p2\n",
    "print(\"p1 - p2:\", p4_sub)\n",
    "\n",
    "p5_sub = p1 - 5\n",
    "print(\"p1 - 5:\", p5_sub)"
   ]
  },
  {
   "cell_type": "code",
   "execution_count": null,
   "metadata": {},
   "outputs": [],
   "source": [
    "p5_mul = p1*5\n",
    "p6_mul = 6*p1\n",
    "\n",
    "print(p5_mul)\n",
    "print(p6_mul)"
   ]
  },
  {
   "cell_type": "code",
   "execution_count": null,
   "metadata": {},
   "outputs": [],
   "source": [
    "vars(Point())"
   ]
  },
  {
   "cell_type": "code",
   "execution_count": null,
   "metadata": {},
   "outputs": [],
   "source": [
    "vars(Point)"
   ]
  },
  {
   "cell_type": "code",
   "execution_count": null,
   "metadata": {},
   "outputs": [],
   "source": [
    "vars(p1)"
   ]
  },
  {
   "cell_type": "code",
   "execution_count": null,
   "metadata": {},
   "outputs": [],
   "source": [
    "getattr(p1, 'x')"
   ]
  },
  {
   "cell_type": "code",
   "execution_count": null,
   "metadata": {},
   "outputs": [],
   "source": [
    "getattr(p2, 'y')"
   ]
  }
 ],
 "metadata": {
  "kernelspec": {
   "display_name": "Python 3",
   "language": "python",
   "name": "python3"
  },
  "language_info": {
   "codemirror_mode": {
    "name": "ipython",
    "version": 3
   },
   "file_extension": ".py",
   "mimetype": "text/x-python",
   "name": "python",
   "nbconvert_exporter": "python",
   "pygments_lexer": "ipython3",
   "version": "3.7.3"
  }
 },
 "nbformat": 4,
 "nbformat_minor": 4
}
