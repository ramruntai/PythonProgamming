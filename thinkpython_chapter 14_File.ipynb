{
 "cells": [
  {
   "cell_type": "markdown",
   "metadata": {},
   "source": [
    "# Files \n",
    "## Persistent program that keep data in permantant storage\n",
    "### File Vs Database\n",
    "\n",
    "## Reading and writing text file\n"
   ]
  },
  {
   "cell_type": "code",
   "execution_count": null,
   "metadata": {},
   "outputs": [],
   "source": [
    "'''\n",
    "'r'       open for reading (default),error if the file does not exist\n",
    "'w'       open for writing, truncating the file first,creates the file if it does not exist\n",
    "'x'       create a new file and open it for writing,creates the file if it does not exist\n",
    "'a'       open for writing, appending to the end of the file if it exists, creates the file if it does not exist\n",
    "\n",
    "\"t\" - Text - Default value. Text mode\n",
    "\"b\" - Binary - Binary mode (e.g. images)\n",
    "'''\n",
    "file1 = open('Output.txt','wt')\n",
    "line1 = \"We are the remnant\\n\"\n",
    "file1.write(line1)\n",
    "#The return value is the number of characters that were written\n",
    "line2 = \"GOD bless the remnant\\n\"\n",
    "file1.write(line2)\n",
    "file1.close()"
   ]
  },
  {
   "cell_type": "code",
   "execution_count": null,
   "metadata": {},
   "outputs": [],
   "source": [
    "file2 = open('Output.txt','w')\n",
    "lines =['We are the chosen people\\n',\"GOD called us as summit\\n\"]\n",
    "file2.writelines(lines)\n",
    "file2.close()"
   ]
  },
  {
   "cell_type": "code",
   "execution_count": null,
   "metadata": {},
   "outputs": [],
   "source": [
    "file3 = open('Output.txt','a')\n",
    "line3 ='Spiritual Summit, Skill Summit, and Cultural Summit\\n'\n",
    "file3.write(line3)\n",
    "#file3.write(34) # It will work? \n",
    "file3.close()\n",
    "\n",
    "file4 = open('C:\\\\Users\\\\bslee\\\\Desktop\\\\Python\\\\Output.txt')\n",
    "for line in file4.readlines() :\n",
    "    print(line)\n",
    "file4.close()"
   ]
  },
  {
   "cell_type": "markdown",
   "metadata": {},
   "source": [
    "## Format"
   ]
  },
  {
   "cell_type": "code",
   "execution_count": null,
   "metadata": {},
   "outputs": [],
   "source": [
    "num_remnant =7\n",
    "num_nation =237\n",
    "name = 'Bruce'\n",
    "height = 170.3\n",
    "\n",
    "line4 = '{} Remnant save {} nations'.format(num_remnant, num_nation)\n",
    "#  formatoperator, %. \n",
    "#  When applied to integers, % is the modulus operator. But when the ﬁrst operand is a string, % is the format operator\n",
    "line5 = '%d Remnant save %d nations' % (num_remnant, num_nation)\n",
    "print(line4)\n",
    "print(line5)\n",
    "\n",
    "#  '%d' toformataninteger, '%g' toformataﬂoating-pointnumber, and '%s' to format a string\n",
    "line6 = '8th Remnant is %s, height is %g' % (name, height)\n",
    "print(line6)\n",
    "\n",
    "#line7 = '8th Remnant is %s, height is %g' % (height, name) # it works? \n",
    "#print(line7)\n",
    "\n",
    "line8 = '8th Remnant is %s, height is %g' % (name) # it works? \n",
    "print(line8)\n"
   ]
  },
  {
   "cell_type": "markdown",
   "metadata": {},
   "source": [
    "## Filenames and paths"
   ]
  },
  {
   "cell_type": "code",
   "execution_count": null,
   "metadata": {},
   "outputs": [],
   "source": [
    "import os\n",
    "cwd = os.getcwd()\n",
    "cwd"
   ]
  },
  {
   "cell_type": "code",
   "execution_count": null,
   "metadata": {},
   "outputs": [],
   "source": [
    "abs_path = os.path.abspath('Output.txt')\n",
    "print(abs_path)\n",
    "os.path.exists('Output.txt')\n",
    "os.path.isdir('Output.txt')\n",
    "os.path.isdir('C:\\\\Users\\\\bslee\\\\Desktop\\\\Python\\\\Output.txt')\n",
    "\n",
    "#Which one works? \n",
    "os.path.isdir('C:/Users/bslee/Desktop/Python')\n",
    "os.path.isdir('C:\\\\Users\\\\bslee\\\\Desktop\\\\Python')\n",
    "os.path.isdir('C:\\Users\\bslee\\Desktop\\Python')"
   ]
  },
  {
   "cell_type": "code",
   "execution_count": null,
   "metadata": {},
   "outputs": [],
   "source": [
    "if os.path.exists(\"Output.txt\"):\n",
    "    os.remove(\"Output.txt\")\n",
    "    print(\"file is deleted\") \n",
    "else:\n",
    "    print(\"The file does not exist\") "
   ]
  },
  {
   "cell_type": "code",
   "execution_count": null,
   "metadata": {},
   "outputs": [],
   "source": [
    "os.listdir(cwd)"
   ]
  },
  {
   "cell_type": "code",
   "execution_count": null,
   "metadata": {},
   "outputs": [],
   "source": [
    "def walk(dirname): \n",
    "    for name in os.listdir(dirname): \n",
    "        #join takes a directory and a ﬁle name and joins them into a complete path\n",
    "        path = os.path.join(dirname, name)\n",
    "        if os.path.isfile(path): \n",
    "            print(path) \n",
    "        else: walk(path) "
   ]
  },
  {
   "cell_type": "code",
   "execution_count": null,
   "metadata": {},
   "outputs": [],
   "source": [
    "walk(cwd)"
   ]
  },
  {
   "cell_type": "markdown",
   "metadata": {},
   "source": [
    "## Catching Exception"
   ]
  },
  {
   "cell_type": "code",
   "execution_count": null,
   "metadata": {},
   "outputs": [],
   "source": [
    "fin = open('bad file')"
   ]
  },
  {
   "cell_type": "code",
   "execution_count": null,
   "metadata": {},
   "outputs": [],
   "source": [
    "fout = open('C:\\\\Windows\\\\cfgall.ini', 'w')"
   ]
  },
  {
   "cell_type": "code",
   "execution_count": null,
   "metadata": {},
   "outputs": [],
   "source": [
    "try:\n",
    "    fout = open('bad file', 'r')\n",
    "except PermissionError:\n",
    "    print('Permission Error')\n",
    "except FileNotFoundError:\n",
    "    print(\"File not Found\")\n",
    "\n",
    "## difficult trace all expections. "
   ]
  },
  {
   "cell_type": "code",
   "execution_count": null,
   "metadata": {},
   "outputs": [],
   "source": [
    "import traceback\n",
    "try:\n",
    "    fout = open('C:\\\\Windows\\\\cfgall.ini', 'w')\n",
    "except Exception:\n",
    "    traceback.print_exc()"
   ]
  },
  {
   "cell_type": "code",
   "execution_count": null,
   "metadata": {},
   "outputs": [],
   "source": [
    "import logging\n",
    "LOG_FILENAME = os.path.join(os.getenv('temp'),'Errorlog.log')\n",
    "print(LOG_FILENAME)\n",
    "\n",
    "logging.basicConfig(filename=LOG_FILENAME, level=logging.DEBUG)\n",
    "\n",
    "logging.debug('Start logging errors')\n",
    "\n",
    "try:\n",
    "    fin = open('bad file')\n",
    "except Exception as e:\n",
    "    logging.error(e,exc_info=True)\n",
    "\n",
    "    \n",
    "file_log = open(LOG_FILENAME)\n",
    "for line in file_log.readlines() :\n",
    "    print(line)\n",
    "file_log.close()"
   ]
  },
  {
   "cell_type": "markdown",
   "metadata": {},
   "source": [
    "## Databases"
   ]
  },
  {
   "cell_type": "code",
   "execution_count": null,
   "metadata": {},
   "outputs": [],
   "source": [
    "# dbm is a generic interface to variants of the DBM database \n",
    "# f none of these modules is installed, the slow-but-simple implementation in module dbm.dumb will be used\n",
    "\n",
    "import dbm # Database manager\n",
    "\n",
    "'''\n",
    "'r' Open existing database for reading only (default)\n",
    "'w' Open existing database for reading and writing\n",
    "'c' Open database for reading and writing, creating it if it doesn’t exist\n",
    "'n' Always create a new, empty database, open for reading and writing\n",
    "'''\n",
    "db = dbm.open('captions','c')\n",
    "print(type(db))\n",
    "# The dbm.dumb module provides a persistent dictionary-like interface which is written entirely in Python\n",
    "\n",
    "# Create new item \n",
    "db['cleese.png'] = 'Photo of Jone Cleese.'\n",
    "db['cleese.png'] \n",
    "db['lee.png'] = 'Photo of Bruce Lee doing a silly walk.' \n",
    "# db['Jone.png'] =3333 # It will work\n",
    "# The result is a bytes object, which is why it begins with b\n",
    "\n",
    "for key in db:\n",
    "    print(key, db[key])\n",
    "\n",
    "db.close()"
   ]
  },
  {
   "cell_type": "markdown",
   "metadata": {},
   "source": [
    "## Pickling"
   ]
  },
  {
   "cell_type": "code",
   "execution_count": null,
   "metadata": {},
   "outputs": [],
   "source": [
    "# A limitation of dbm is that the keys and values have to be strings or bytes"
   ]
  },
  {
   "cell_type": "code",
   "execution_count": null,
   "metadata": {},
   "outputs": [],
   "source": [
    "import pickle\n",
    "t = [1,2,3]\n",
    "pickle.dumps(t) #dump string"
   ]
  },
  {
   "cell_type": "code",
   "execution_count": null,
   "metadata": {},
   "outputs": [],
   "source": [
    "t1 = [1,2,3]\n",
    "s = pickle.dumps(t1)\n",
    "print(type(s))\n",
    "t2 = pickle.loads(s)\n",
    "t2\n",
    "\n",
    "s1 = pickle.dumps(34)\n",
    "print(s1)\n",
    "s2 = pickle.loads(s1)\n",
    "print(s2)\n",
    "\n",
    "s3 = 'We are the remnant\\n'\n",
    "s4 = pickle.dumps(s3)\n",
    "print(s3, s4)\n",
    "s5 = pickle.loads(s4)\n",
    "print(s5)\n",
    "#s6 = pickle.loads(s3) # it will work? \n"
   ]
  },
  {
   "cell_type": "code",
   "execution_count": null,
   "metadata": {},
   "outputs": [],
   "source": [
    "t1 == t2 # true or false\n",
    "t1 is t2 # true or false"
   ]
  },
  {
   "cell_type": "code",
   "execution_count": null,
   "metadata": {},
   "outputs": [],
   "source": [
    "\n",
    "db = dbm.open('captions','c')\n",
    "db['David.png'] = pickle.dumps(234.45)\n",
    "#print(pickle.loads(db['David.png']))\n",
    "\n",
    "print(type(db['lee.png']))\n",
    "for key in db:\n",
    "    print(key, db[key])\n",
    "db.close()\n",
    "     \n"
   ]
  },
  {
   "cell_type": "code",
   "execution_count": null,
   "metadata": {},
   "outputs": [],
   "source": [
    "bytes_file = open('bytes.txt', 'wb')\n",
    "\n",
    "data =['1',\"Remants\",'34.56']\n",
    "pickle.dump(data,bytes_file)\n",
    "bytes_file.close()\n",
    "\n"
   ]
  },
  {
   "cell_type": "code",
   "execution_count": null,
   "metadata": {},
   "outputs": [],
   "source": [
    "bytes_file1 = open('bytes.txt', 'rb')\n",
    "data = pickle.load(bytes_file1)\n",
    "\n",
    "print('Showing the pickled data:')\n",
    "\n",
    "cnt = 0\n",
    "for item in data:\n",
    "    print('The data ', cnt, ' is : ', item)\n",
    "    cnt += 1\n",
    "\n",
    "bytes_file1.close()"
   ]
  },
  {
   "cell_type": "markdown",
   "metadata": {},
   "source": [
    "## Pipes"
   ]
  },
  {
   "cell_type": "code",
   "execution_count": null,
   "metadata": {},
   "outputs": [],
   "source": [
    "# Any program that you can launch from the shell can also be launched from Python using a pipe object\n",
    "cmd = 'dir /w'\n",
    "fp = os.popen(cmd)\n",
    "\n",
    "res = fp.read()\n",
    "print(res)\n",
    "fp.close()\n"
   ]
  },
  {
   "cell_type": "markdown",
   "metadata": {},
   "source": [
    "## Writing modules"
   ]
  },
  {
   "cell_type": "code",
   "execution_count": null,
   "metadata": {},
   "outputs": [],
   "source": [
    "# Any ﬁle that contains Python code can be imported as a module"
   ]
  },
  {
   "cell_type": "code",
   "execution_count": null,
   "metadata": {},
   "outputs": [],
   "source": [
    "import Test\n",
    "Test"
   ]
  },
  {
   "cell_type": "code",
   "execution_count": null,
   "metadata": {},
   "outputs": [],
   "source": [
    "Test.linecount('Test.py')"
   ]
  },
  {
   "cell_type": "code",
   "execution_count": null,
   "metadata": {},
   "outputs": [],
   "source": []
  }
 ],
 "metadata": {
  "kernelspec": {
   "display_name": "Python 3",
   "language": "python",
   "name": "python3"
  },
  "language_info": {
   "codemirror_mode": {
    "name": "ipython",
    "version": 3
   },
   "file_extension": ".py",
   "mimetype": "text/x-python",
   "name": "python",
   "nbconvert_exporter": "python",
   "pygments_lexer": "ipython3",
   "version": "3.8.3"
  }
 },
 "nbformat": 4,
 "nbformat_minor": 4
}
