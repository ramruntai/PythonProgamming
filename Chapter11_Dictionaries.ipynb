{
 "cells": [
  {
   "cell_type": "markdown",
   "metadata": {},
   "source": [
    "# Dictionaries \n",
    "## Key-Value pair"
   ]
  },
  {
   "cell_type": "code",
   "execution_count": null,
   "metadata": {},
   "outputs": [],
   "source": [
    "# list, dictionary, and tuple which can cover most real data. \n",
    "# list - Index should be integer and mutable\n",
    "# dictionary - Index can be any type, Collection of Key-value pair \n",
    "# Each key is associated with a single value. i.e. each key maps to a value\n",
    "\n",
    "mylist =['Joseph','Mose']\n",
    "print(mylist[1])\n",
    "\n",
    "mydict1 ={0:'Joseph',1:'Mose'}\n",
    "print(mydict1[1])\n"
   ]
  },
  {
   "cell_type": "code",
   "execution_count": null,
   "metadata": {},
   "outputs": [],
   "source": [
    "#help(dict)\n",
    "mydict = dict()\n",
    "mydict['one'] = '1'\n",
    "mydict['two'] = '2'\n",
    "print(mydict,len(mydict))\n",
    "\n",
    "#print(mydict['1'])\n",
    "#print(mydict['one'])\n",
    "#print(mydict[0]) \n"
   ]
  },
  {
   "cell_type": "code",
   "execution_count": null,
   "metadata": {},
   "outputs": [],
   "source": [
    "# in operator tells you whether key is in the dictionary\n",
    "print('1' in mydict1) \n",
    "print(1 in mydict1)\n",
    "print('Joseph' in mydict1)\n",
    "\n",
    "values_list = list(mydict1.values())\n",
    "print(values_list)\n",
    "\n",
    "# In operator \n",
    "# List - As the list gets longer, the search time gets longer in direct proportion \n",
    "# Dictionary - Using hashtable. Same amout of time no matter how may itesm are in the dictionary. "
   ]
  },
  {
   "cell_type": "code",
   "execution_count": null,
   "metadata": {},
   "outputs": [],
   "source": [
    "# Example)\n",
    "# count how many times each letter appear in the string\n",
    "# key : Alphabet, value - frequency \n",
    "\n",
    "# remnant\n",
    "# a:1,e:1,m:1,n:2,r:1,t:1\n",
    "\n",
    "def histogram_dict(s:str) ->dict:\n",
    "    d = dict() \n",
    "    for c in s: \n",
    "        if c not in d: \n",
    "            d[c] = 1 \n",
    "        else: \n",
    "            d[c] += 1 \n",
    "    return d \n",
    "\n",
    "def histogram_list(s:str) ->dict:\n",
    "    keys = []\n",
    "    values =[]\n",
    "    for c in s: \n",
    "        if c not in keys: \n",
    "            keys.append(c)\n",
    "            values.append(1)\n",
    "        else: \n",
    "            values[keys.index(c)] +=1\n",
    "    return [keys,values]\n",
    "\n",
    "s = 'remnant'\n",
    "print(histogram_dict(s))\n",
    "print(histogram_list(s))\n",
    "\n",
    "h =histogram_dict(s)\n",
    "for key in sorted(h):\n",
    "    print(key,h[key])\n",
    "    "
   ]
  },
  {
   "cell_type": "code",
   "execution_count": null,
   "metadata": {},
   "outputs": [],
   "source": [
    "h1 = histogram_dict('brontosaurus')\n",
    "print(h1.get('a',0))\n",
    "print(h1['a'])"
   ]
  },
  {
   "cell_type": "markdown",
   "metadata": {},
   "source": [
    "## Looping dictionary "
   ]
  },
  {
   "cell_type": "code",
   "execution_count": null,
   "metadata": {},
   "outputs": [],
   "source": [
    "# In a for statement, it traverses the keys. \n",
    "def print_hist(h:dict): \n",
    "    for c in h: \n",
    "        print(c, h[c])"
   ]
  },
  {
   "cell_type": "code",
   "execution_count": null,
   "metadata": {},
   "outputs": [],
   "source": [
    "print_hist(h)"
   ]
  },
  {
   "cell_type": "code",
   "execution_count": null,
   "metadata": {},
   "outputs": [],
   "source": [
    "# Lookup - Given key, get the value \n",
    "v = h['a']\n",
    "print(v)\n",
    "\n",
    "# Reverse Lookup - Given value, get the key? "
   ]
  },
  {
   "cell_type": "code",
   "execution_count": null,
   "metadata": {},
   "outputs": [],
   "source": [
    "# LookupError is builtin exception\n",
    "def reverse_lookup(d:dict, v): \n",
    "    '''\n",
    "    Raise LookupError when there is no key associated with value\n",
    "    '''\n",
    "    for k in d: \n",
    "        if d[k] == v: \n",
    "            return k \n",
    "        raise LookupError()\n",
    "        \n",
    "        \n",
    "def reverse_lookup1(d:dict, v): \n",
    "    '''\n",
    "    Return empty list when there is no key associated with value\n",
    "    '''\n",
    "    return_list =[]\n",
    "    for k in d: \n",
    "        if d[k] == v: \n",
    "            return_list.append(k)            \n",
    "    return return_list"
   ]
  },
  {
   "cell_type": "code",
   "execution_count": null,
   "metadata": {},
   "outputs": [],
   "source": [
    "print(reverse_lookup(h,1))\n",
    "print(reverse_lookup1(h,1))"
   ]
  },
  {
   "cell_type": "markdown",
   "metadata": {},
   "source": [
    "## dictionaries and lists"
   ]
  },
  {
   "cell_type": "code",
   "execution_count": null,
   "metadata": {},
   "outputs": [],
   "source": [
    "def invert_dict(d:dict)->dict: \n",
    "    inverse = dict() \n",
    "    for key in d: \n",
    "        val = d[key] \n",
    "        if val not in inverse: \n",
    "            inverse[val] = [key] \n",
    "        else: \n",
    "            inverse[val].append(key) \n",
    "    return inverse"
   ]
  },
  {
   "cell_type": "code",
   "execution_count": null,
   "metadata": {},
   "outputs": [],
   "source": [
    "print(invert_dict(h))"
   ]
  },
  {
   "cell_type": "code",
   "execution_count": null,
   "metadata": {},
   "outputs": [],
   "source": [
    "# Lists can be values in a dictionary, as this example shows, but they cannot be keys\n",
    "\n",
    "test_list = dict()\n",
    "test_list['1'] = ['one','two']\n",
    "print(test_list)\n",
    "\n",
    "\n",
    "test_dict = dict()\n",
    "test_dict['1'] = {'1':'one','2':'two'}\n",
    "print(test_dict)\n",
    "\n",
    "# Can we modify key? \n",
    "\n",
    "test_dict['1'] =3\n",
    "print(test_dict)"
   ]
  },
  {
   "cell_type": "code",
   "execution_count": null,
   "metadata": {},
   "outputs": [],
   "source": [
    "# 0,1,1,2,3,5,8,13\n",
    "# Next item = sum of previous two item\n",
    "\n",
    "def fibonacci_recursive(n:int):\n",
    "    if n == 0 or n == 1:\n",
    "        return n\n",
    "    \n",
    "    next = fibonacci_recursive(n-2) + fibonacci_recursive(n-1)\n",
    "    return next"
   ]
  },
  {
   "cell_type": "code",
   "execution_count": null,
   "metadata": {},
   "outputs": [],
   "source": [
    "from datetime import datetime\n",
    "n = 35\n",
    "\n",
    "start_time = datetime.now()\n",
    "print(fibonacci_recursive(n))\n",
    "end_time = datetime.now()\n",
    "print('fibonacci_recursive first time: {}'.format(end_time - start_time))\n",
    "\n",
    "start_time = datetime.now()\n",
    "print(fibonacci_recursive(n))\n",
    "end_time = datetime.now()\n",
    "print('fibonacci_recursive seond time: {}'.format(end_time - start_time))\n"
   ]
  },
  {
   "cell_type": "code",
   "execution_count": null,
   "metadata": {},
   "outputs": [],
   "source": [
    "known ={0:0,1:1}\n",
    "def fibonacci(n:int)-> int: \n",
    "    if n in known: \n",
    "        return known[n]\n",
    "    \n",
    "    res = fibonacci(n-1) + fibonacci(n-2) \n",
    "    known[n] = res     \n",
    "    return res\n",
    "\n",
    "print(known)\n",
    "start_time = datetime.now()\n",
    "print(fibonacci(n))\n",
    "end_time = datetime.now()\n",
    "print('fibonacci first time: {}'.format(end_time - start_time))\n",
    "\n",
    "print(known)\n",
    "start_time = datetime.now()\n",
    "print(fibonacci(n))\n",
    "end_time = datetime.now()\n",
    "print('fibonacci second time: {}'.format(end_time - start_time))\n"
   ]
  },
  {
   "cell_type": "code",
   "execution_count": null,
   "metadata": {},
   "outputs": [],
   "source": [
    "count = 1\n",
    "print(count)\n",
    "\n",
    "def global_example():\n",
    "    count += 1\n",
    "    \n",
    "global_example()    \n",
    "print(count)"
   ]
  },
  {
   "cell_type": "code",
   "execution_count": null,
   "metadata": {},
   "outputs": [],
   "source": [
    "from datetime import datetime\n",
    "n = 10000000\n",
    "\n",
    "list_test = [i for i in range(n)]\n",
    "dict_test = dict()\n",
    "for j in list_test:\n",
    "    dict_test[j] = j\n",
    "\n",
    "start_time = datetime.now()\n",
    "print(list_test[n-356785])\n",
    "end_time = datetime.now()\n",
    "print('List: {}'.format(end_time - start_time))\n",
    "\n",
    "\n",
    "start_time = datetime.now()\n",
    "print(dict_test[n-356785])\n",
    "end_time = datetime.now()\n",
    "print('Dictionary: {}'.format(end_time - start_time))\n",
    "\n"
   ]
  },
  {
   "cell_type": "code",
   "execution_count": null,
   "metadata": {},
   "outputs": [],
   "source": []
  },
  {
   "cell_type": "code",
   "execution_count": null,
   "metadata": {},
   "outputs": [],
   "source": []
  }
 ],
 "metadata": {
  "kernelspec": {
   "display_name": "Python 3",
   "language": "python",
   "name": "python3"
  },
  "language_info": {
   "codemirror_mode": {
    "name": "ipython",
    "version": 3
   },
   "file_extension": ".py",
   "mimetype": "text/x-python",
   "name": "python",
   "nbconvert_exporter": "python",
   "pygments_lexer": "ipython3",
   "version": "3.8.3"
  }
 },
 "nbformat": 4,
 "nbformat_minor": 4
}
