{
 "cells": [
  {
   "cell_type": "markdown",
   "metadata": {},
   "source": [
    "# Classes and objects"
   ]
  },
  {
   "cell_type": "markdown",
   "metadata": {},
   "source": [
    "### object oriented programming \n",
    "#### abstraction,encapsulation, inheritance and polymorphism (overloading/overriding) \n",
    "##### Abstraction : using simple things to represent complexity  \n",
    "##### Encapsulation : protective barrier that keeps the data and code safe\n",
    "### builtin types Vs. user defined type\n",
    "\n"
   ]
  },
  {
   "cell_type": "code",
   "execution_count": null,
   "metadata": {},
   "outputs": [],
   "source": [
    "# We already use class \n",
    "import turtle \n",
    "bob = turtle.Turtle() \n",
    "help(turtle.Turtle()) \n",
    "turtle.mainloop() \n"
   ]
  },
  {
   "cell_type": "code",
   "execution_count": 55,
   "metadata": {},
   "outputs": [],
   "source": [
    "# Class encapsulates data and code \n",
    "# Class name starting upper chracter  \n",
    "\n",
    "class Point2d:\n",
    "    '''\n",
    "    Represents a point in 2D space\n",
    "    attributes : x, y\n",
    "    '''\n",
    "    x:float = 0.0\n",
    "    y:float = 0.0"
   ]
  },
  {
   "cell_type": "code",
   "execution_count": 56,
   "metadata": {},
   "outputs": [
    {
     "name": "stdout",
     "output_type": "stream",
     "text": [
      "Help on class Point2d in module __main__:\n",
      "\n",
      "class Point2d(builtins.object)\n",
      " |  Represents a point in 2D space\n",
      " |  attributes : x, y\n",
      " |  \n",
      " |  Data descriptors defined here:\n",
      " |  \n",
      " |  __dict__\n",
      " |      dictionary for instance variables (if defined)\n",
      " |  \n",
      " |  __weakref__\n",
      " |      list of weak references to the object (if defined)\n",
      " |  \n",
      " |  ----------------------------------------------------------------------\n",
      " |  Data and other attributes defined here:\n",
      " |  \n",
      " |  __annotations__ = {'x': <class 'float'>, 'y': <class 'float'>}\n",
      " |  \n",
      " |  x = 0.0\n",
      " |  \n",
      " |  y = 0.0\n",
      "\n"
     ]
    }
   ],
   "source": [
    "type(Point2d)\n",
    "help(Point2d)"
   ]
  },
  {
   "cell_type": "code",
   "execution_count": 58,
   "metadata": {},
   "outputs": [
    {
     "data": {
      "text/plain": [
       "{'x': float, 'y': float}"
      ]
     },
     "execution_count": 58,
     "metadata": {},
     "output_type": "execute_result"
    }
   ],
   "source": [
    "# point2d is class, point1 is instance or object (Memory)\n",
    "point1 = Point2d()  # instantiate - Create new object (Memory)\n",
    "point1.x = 2.3\n",
    "point1.y = 3.3\n",
    "\n",
    "point1"
   ]
  },
  {
   "cell_type": "code",
   "execution_count": 59,
   "metadata": {},
   "outputs": [
    {
     "name": "stdout",
     "output_type": "stream",
     "text": [
      "4.123105625617661\n"
     ]
    }
   ],
   "source": [
    "import math\n",
    "point2 = Point2d()\n",
    "point2.x = 6.3\n",
    "point2.y = 4.3\n",
    "\n",
    "distance = math.sqrt((point2.x - point1.x)**2 + (point2.y - point1.y)**2)\n",
    "print(distance)\n"
   ]
  },
  {
   "cell_type": "code",
   "execution_count": 60,
   "metadata": {},
   "outputs": [],
   "source": [
    "def print_point2d(p:Point2d):\n",
    "    print('x : {}, y: {}'.format(p.x, p.y))"
   ]
  },
  {
   "cell_type": "code",
   "execution_count": 61,
   "metadata": {},
   "outputs": [
    {
     "name": "stdout",
     "output_type": "stream",
     "text": [
      "x : 2.3, y: 3.3\n",
      "x : 6.3, y: 4.3\n"
     ]
    }
   ],
   "source": [
    "print_point2d(point1)\n",
    "print_point2d(point2)"
   ]
  },
  {
   "cell_type": "code",
   "execution_count": 62,
   "metadata": {},
   "outputs": [
    {
     "name": "stdout",
     "output_type": "stream",
     "text": [
      "Help on class Rectangle in module __main__:\n",
      "\n",
      "class Rectangle(builtins.object)\n",
      " |  Represents a rectangle \n",
      " |  attributres : width, height, left bottom corner point      \n",
      " |      width\n",
      " |  ---------------\n",
      " |  |             |  height\n",
      " |  |corner       |\n",
      " |  O--------------\n",
      " |  \n",
      " |  Data descriptors defined here:\n",
      " |  \n",
      " |  __dict__\n",
      " |      dictionary for instance variables (if defined)\n",
      " |  \n",
      " |  __weakref__\n",
      " |      list of weak references to the object (if defined)\n",
      " |  \n",
      " |  ----------------------------------------------------------------------\n",
      " |  Data and other attributes defined here:\n",
      " |  \n",
      " |  __annotations__ = {'corner': <class '__main__.Point2d'>, 'height': <cl...\n",
      " |  \n",
      " |  height = 0.0\n",
      " |  \n",
      " |  width = 0.0\n",
      "\n"
     ]
    }
   ],
   "source": [
    "class Rectangle:\n",
    "    '''\n",
    "    Represents a rectangle \n",
    "    attributres : width, height, left bottom corner point      \n",
    "        width\n",
    "    ---------------\n",
    "    |             |  height\n",
    "    |corner       |\n",
    "    O--------------\n",
    "    '''\n",
    "    width:float = 0.0\n",
    "    height:float = 0.0\n",
    "    corner:Point2d     \n",
    " \n",
    "help(Rectangle)"
   ]
  },
  {
   "cell_type": "code",
   "execution_count": 63,
   "metadata": {},
   "outputs": [],
   "source": [
    "box = Rectangle()\n",
    "box.height = 10.2\n",
    "box.width = 5.2\n",
    "box.corner = Point2d() #Do we need this step? \n",
    "box.corner.x = 1.2\n",
    "box.corner.y = 0.8"
   ]
  },
  {
   "cell_type": "code",
   "execution_count": 64,
   "metadata": {},
   "outputs": [],
   "source": [
    "def find_center(rect:Rectangle):\n",
    "    p = Point2d()\n",
    "    p.x = rect.corner.x + rect.width/2\n",
    "    p.y = rect.corner.y + rect.height/2\n",
    "    return p"
   ]
  },
  {
   "cell_type": "code",
   "execution_count": 65,
   "metadata": {},
   "outputs": [
    {
     "name": "stdout",
     "output_type": "stream",
     "text": [
      "x : 3.8, y: 5.8999999999999995\n"
     ]
    }
   ],
   "source": [
    "center = find_center(box)\n",
    "print_point2d(center)"
   ]
  },
  {
   "cell_type": "code",
   "execution_count": 66,
   "metadata": {},
   "outputs": [],
   "source": [
    "# Objects are mutable\n",
    "\n",
    "box.width = box.width + 100\n",
    "box.height += 100"
   ]
  },
  {
   "cell_type": "code",
   "execution_count": 67,
   "metadata": {},
   "outputs": [
    {
     "name": "stdout",
     "output_type": "stream",
     "text": [
      "x : 53.800000000000004, y: 55.9\n"
     ]
    }
   ],
   "source": [
    "center = find_center(box)\n",
    "print_point2d(center)"
   ]
  },
  {
   "cell_type": "markdown",
   "metadata": {},
   "source": [
    "### Copying object\n",
    "#### shallow copy Vs. deep copy"
   ]
  },
  {
   "cell_type": "code",
   "execution_count": 68,
   "metadata": {},
   "outputs": [
    {
     "name": "stdout",
     "output_type": "stream",
     "text": [
      "x : 3.0, y: 4.0\n",
      "x : 3.0, y: 4.0\n",
      "False\n",
      "False\n",
      "<__main__.Point2d object at 0x000001B4E62138B0>\n",
      "<__main__.Point2d object at 0x000001B4E62131F0>\n",
      "1\n",
      "My name is Bruce\n"
     ]
    }
   ],
   "source": [
    "p1 = Point2d()\n",
    "p1.x = 3.0\n",
    "p1.y = 4.0\n",
    "\n",
    "import copy\n",
    "p2 = copy.copy(p1)\n",
    "print_point2d(p1)\n",
    "print_point2d(p2)\n",
    "\n",
    "print(p1 == p2) # true or false\n",
    "print(p1 is p2) # true or false\n",
    "\n",
    "print(p1)\n",
    "print(p2)\n",
    "\n",
    "# % is overloaded. its behaviour is differenct based on type of operand \n",
    "print(3 % 2)\n",
    "print('My name is %s' % ('Bruce'))\n"
   ]
  },
  {
   "cell_type": "code",
   "execution_count": 69,
   "metadata": {},
   "outputs": [
    {
     "name": "stdout",
     "output_type": "stream",
     "text": [
      "False\n",
      "True\n",
      "<__main__.Point2d object at 0x000001B4E6204CA0>\n",
      "<__main__.Point2d object at 0x000001B4E6204CA0>\n",
      "x : 1.2, y: 0.8\n",
      "x : 1.2, y: 0.8\n",
      "x : 1, y: 1\n",
      "x : 1, y: 1\n"
     ]
    }
   ],
   "source": [
    "box1 = copy.copy(box)\n",
    "\n",
    "print(box1 is box) # true or false\n",
    "print(box1.corner is box.corner) # true or false\n",
    "\n",
    "# address is same. It points to same object \n",
    "print(box.corner)\n",
    "print(box1.corner)\n",
    "\n",
    "print_point2d(box.corner)\n",
    "print_point2d(box1.corner)\n",
    "\n",
    "box.corner.x = 1\n",
    "box.corner.y = 1\n",
    "\n",
    "print_point2d(box.corner)\n",
    "print_point2d(box1.corner)"
   ]
  },
  {
   "cell_type": "code",
   "execution_count": 70,
   "metadata": {},
   "outputs": [
    {
     "name": "stdout",
     "output_type": "stream",
     "text": [
      "False\n",
      "False\n",
      "<__main__.Point2d object at 0x000001B4E6204CA0>\n",
      "<__main__.Point2d object at 0x000001B4E68BD1F0>\n",
      "x : 1, y: 1\n",
      "x : 1, y: 1\n",
      "x : 100, y: 100\n",
      "x : 1, y: 1\n"
     ]
    }
   ],
   "source": [
    "box2 = copy.deepcopy(box)\n",
    "\n",
    "print(box2 is box) # true or false\n",
    "print(box2.corner is box.corner) # true or false\n",
    "\n",
    "# address is differnt. They are completely separate objects\n",
    "print(box.corner)\n",
    "print(box2.corner)\n",
    "\n",
    "print_point2d(box.corner)\n",
    "print_point2d(box2.corner)\n",
    "\n",
    "box.corner.x = 100\n",
    "box.corner.y = 100\n",
    "\n",
    "print_point2d(box.corner)\n",
    "print_point2d(box2.corner)"
   ]
  },
  {
   "cell_type": "code",
   "execution_count": 77,
   "metadata": {},
   "outputs": [
    {
     "name": "stdout",
     "output_type": "stream",
     "text": [
      "True\n",
      "True\n",
      "False\n",
      "We are the remnant\n",
      "\n",
      "\n",
      "    Represents a rectangle \n",
      "    attributres : width, height, left bottom corner point      \n",
      "        width\n",
      "    ---------------\n",
      "    |             |  height\n",
      "    |corner       |\n",
      "    O--------------\n",
      "    \n"
     ]
    }
   ],
   "source": [
    "print(isinstance(box2, Rectangle))\n",
    "print(hasattr(box2,'width'))\n",
    "print(hasattr(box2,'x'))\n",
    "#vars(box2)\n",
    "\n",
    "#dir(box2)\n",
    "#for att in dir(box2):\n",
    "#    print (att, getattr(box2,att))\n",
    "\n",
    "\n",
    "#box2.__dict__   \n",
    "#print(Rectangle.__doc__)\n",
    "#print(box2.__doc__)\n",
    "#box2.__annotations__\n",
    "#box2.__doc__ = 'We are the remnant\\n'\n",
    "#print(box2.__doc__)\n",
    "#print(Rectangle.__doc__)"
   ]
  },
  {
   "cell_type": "code",
   "execution_count": 73,
   "metadata": {},
   "outputs": [],
   "source": [
    "# Encapsulate data and code \n",
    "class Point3d:\n",
    "    '''\n",
    "    Represents a point in 3D space\n",
    "    attributes : x, y, z\n",
    "    method : print\n",
    "    '''\n",
    "    x:float = 0.0\n",
    "    y:float = 0.0\n",
    "    z:float = 0.0\n",
    "        \n",
    "    def print_point(self):\n",
    "        print('x : {}, y: {}, z: {}'.format(self.x, self.y,self.z))\n",
    "    \n",
    "    def ToDist(self, p2:Point3d):\n",
    "        distance = math.sqrt((p2.x - self.x)**2 + (p2.y - self.y)**2 + (p2.z - self.z)**2)\n",
    "        return distance"
   ]
  },
  {
   "cell_type": "code",
   "execution_count": null,
   "metadata": {},
   "outputs": [],
   "source": [
    "p3 = Point3d()\n",
    "p3.x = 3.0\n",
    "p3.y = 4.0\n",
    "p3.z = 5.0\n",
    "\n",
    "p4 = copy.deepcopy(p3)\n",
    "p4.x = 100.0\n",
    "p4.y = 231.0\n",
    "p4.z = 22.0\n",
    "\n",
    "p3.print_point()\n",
    "print(p3.ToDist(p4))\n",
    "#print(p3.ToDist(point1))"
   ]
  },
  {
   "cell_type": "code",
   "execution_count": null,
   "metadata": {},
   "outputs": [],
   "source": []
  }
 ],
 "metadata": {
  "kernelspec": {
   "display_name": "Python 3",
   "language": "python",
   "name": "python3"
  },
  "language_info": {
   "codemirror_mode": {
    "name": "ipython",
    "version": 3
   },
   "file_extension": ".py",
   "mimetype": "text/x-python",
   "name": "python",
   "nbconvert_exporter": "python",
   "pygments_lexer": "ipython3",
   "version": "3.8.3"
  }
 },
 "nbformat": 4,
 "nbformat_minor": 4
}
